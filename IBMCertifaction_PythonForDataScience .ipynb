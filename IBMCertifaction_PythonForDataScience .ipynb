{
 "cells": [
  {
   "cell_type": "code",
   "execution_count": 1,
   "id": "3ec8d7e1-ce79-461c-a7c9-cae98fc253b8",
   "metadata": {
    "scrolled": true
   },
   "outputs": [
    {
     "name": "stdout",
     "output_type": "stream",
     "text": [
      "hello\n",
      " world\n"
     ]
    }
   ],
   "source": [
    "THIS IS FOR PYTHON FOR DATA SCIENCE \n",
    "\n",
    "print(\"hello\\n world\")"
   ]
  },
  {
   "cell_type": "code",
   "execution_count": 2,
   "id": "bfbe1257-6bd6-4cb4-bf54-1cebac5b9d62",
   "metadata": {},
   "outputs": [],
   "source": [
    "#print(\"hello\\n world\")"
   ]
  },
  {
   "cell_type": "code",
   "execution_count": 3,
   "id": "371547e6-a14e-475c-8468-40a47283a685",
   "metadata": {},
   "outputs": [
    {
     "name": "stdout",
     "output_type": "stream",
     "text": [
      "<class 'str'> and <class 'int'>\n"
     ]
    }
   ],
   "source": [
    "i = 20\n",
    "j=str(i)\n",
    "print(type(j),\"and\",type(i) )"
   ]
  },
  {
   "cell_type": "code",
   "execution_count": 4,
   "id": "c16c9bcc-2dfc-449e-bc14-144a95c67b17",
   "metadata": {},
   "outputs": [
    {
     "name": "stdout",
     "output_type": "stream",
     "text": [
      "<class 'float'> and <class 'int'>\n"
     ]
    }
   ],
   "source": [
    "i=20\n",
    "j=float(i)\n",
    "print(type(j),\"and\",type(i))"
   ]
  },
  {
   "cell_type": "code",
   "execution_count": 5,
   "id": "9d6b6014-9df7-4bcb-8b9e-b82eaa45d135",
   "metadata": {},
   "outputs": [
    {
     "name": "stdout",
     "output_type": "stream",
     "text": [
      "<class 'bool'>\n"
     ]
    }
   ],
   "source": [
    " i =bool(1)\n",
    "print(type(i))"
   ]
  },
  {
   "cell_type": "code",
   "execution_count": 6,
   "id": "be36e463-aa33-4af8-bd6d-84df4c4d6394",
   "metadata": {},
   "outputs": [
    {
     "name": "stdout",
     "output_type": "stream",
     "text": [
      "20\n"
     ]
    }
   ],
   "source": [
    "i =20\n",
    "i:30\n",
    "print(i)"
   ]
  },
  {
   "cell_type": "code",
   "execution_count": 10,
   "id": "e8a40d39-b948-486e-ab2f-f52c49cd1667",
   "metadata": {},
   "outputs": [
    {
     "name": "stdout",
     "output_type": "stream",
     "text": [
      "30\n"
     ]
    }
   ],
   "source": [
    "i =20\n",
    "i=30\n",
    "print(i)\n"
   ]
  },
  {
   "cell_type": "code",
   "execution_count": 11,
   "id": "037872d1-1f4e-44dd-b170-8d745c43fa4c",
   "metadata": {},
   "outputs": [
    {
     "name": "stdout",
     "output_type": "stream",
     "text": [
      "this is first char i\n"
     ]
    }
   ],
   "source": [
    "name=\"Niraj\"\n",
    "print(\"this is second char\", name[1])"
   ]
  },
  {
   "cell_type": "code",
   "execution_count": 12,
   "id": "082526ec-fd0f-4979-8a38-8edd4c89f57d",
   "metadata": {},
   "outputs": [
    {
     "name": "stdout",
     "output_type": "stream",
     "text": [
      "this is second char j\n"
     ]
    }
   ],
   "source": [
    "name=\"Niraj\"\n",
    "print(\"this is second char\", name[-1])"
   ]
  },
  {
   "cell_type": "code",
   "execution_count": 13,
   "id": "008bf94b-6b54-4384-b86d-14224260f41b",
   "metadata": {},
   "outputs": [
    {
     "name": "stdout",
     "output_type": "stream",
     "text": [
      "this is string every sencond char NrjSekr\n"
     ]
    }
   ],
   "source": [
    "name = \"Niraj Shegkar\"\n",
    "print(\"this is string every sencond char\",name[::2])"
   ]
  },
  {
   "cell_type": "code",
   "execution_count": 14,
   "id": "a0ae037a-82f2-47f5-98e4-9cdc94025d90",
   "metadata": {},
   "outputs": [
    {
     "name": "stdout",
     "output_type": "stream",
     "text": [
      "this is string every sencond char NaSgr\n"
     ]
    }
   ],
   "source": [
    "name = \"Niraj Shegkar\"\n",
    "print(\"this is string every sencond char\",name[::3])"
   ]
  },
  {
   "cell_type": "code",
   "execution_count": 16,
   "id": "98c70350-3113-4dfd-a4d2-df95744b4ee9",
   "metadata": {},
   "outputs": [
    {
     "name": "stdout",
     "output_type": "stream",
     "text": [
      "this is string every sencond char to can deside end also NrjS\n"
     ]
    }
   ],
   "source": [
    "name = \"Niraj Shegkar\"\n",
    "print(\"this is string every sencond char to can deside end also\",name[0:8:2])"
   ]
  },
  {
   "cell_type": "code",
   "execution_count": 17,
   "id": "7f66a377-b83f-4f24-8bc3-2b6b98379a8e",
   "metadata": {},
   "outputs": [
    {
     "name": "stdout",
     "output_type": "stream",
     "text": [
      "My name is Niraj\n"
     ]
    }
   ],
   "source": [
    "name = \"Niraj\"\n",
    "full = \"My name is \"+name\n",
    "print(full)\n"
   ]
  },
  {
   "cell_type": "code",
   "execution_count": 19,
   "id": "d539990d-2bd2-4f0b-ba4f-9541f8ed6ec2",
   "metadata": {},
   "outputs": [
    {
     "name": "stdout",
     "output_type": "stream",
     "text": [
      "My name is  Niraj\n",
      "NirajNirajNiraj\n"
     ]
    }
   ],
   "source": [
    "name = \"Niraj\"\n",
    "print(\"My name is \",name)\n",
    "print(3*name)\n"
   ]
  },
  {
   "cell_type": "code",
   "execution_count": 21,
   "id": "61e59756-67ed-415a-bde2-9c532122fa84",
   "metadata": {},
   "outputs": [
    {
     "name": "stdout",
     "output_type": "stream",
     "text": [
      "NIRAJ\n"
     ]
    }
   ],
   "source": [
    "name = \"Niraj\"\n",
    "name2 = name.upper()\n",
    "print(name2)"
   ]
  },
  {
   "cell_type": "code",
   "execution_count": 22,
   "id": "a3119097-cb63-4b56-aea8-02132d109237",
   "metadata": {},
   "outputs": [
    {
     "name": "stdout",
     "output_type": "stream",
     "text": [
      "My name is Prasad\n"
     ]
    }
   ],
   "source": [
    "name = \"My name is niraj\"\n",
    "name2 = name.replace(\"niraj\",\"Prasad\")\n",
    "print(name2)\n"
   ]
  },
  {
   "cell_type": "code",
   "execution_count": 24,
   "id": "866e4a86-de2e-45f4-9b0b-3f8ed145ac30",
   "metadata": {},
   "outputs": [
    {
     "name": "stdout",
     "output_type": "stream",
     "text": [
      "3\n"
     ]
    }
   ],
   "source": [
    "name = \"My name is niraj\"\n",
    "print(name.find(\"n\"))"
   ]
  },
  {
   "cell_type": "code",
   "execution_count": 25,
   "id": "c91ceb9e-0fbb-4d7c-9914-d8f96b0549c3",
   "metadata": {},
   "outputs": [
    {
     "name": "stdout",
     "output_type": "stream",
     "text": [
      "11\n"
     ]
    }
   ],
   "source": [
    "name = \"My name is niraj\"\n",
    "print(name.find(\"niraj\"))"
   ]
  },
  {
   "cell_type": "code",
   "execution_count": 26,
   "id": "b46fe9bd-6704-47f9-8c24-3c5a029115f0",
   "metadata": {},
   "outputs": [
    {
     "name": "stdout",
     "output_type": "stream",
     "text": [
      "Li\n"
     ]
    }
   ],
   "source": [
    "name = \"Lizz\"\n",
    "print(name[0:2])"
   ]
  },
  {
   "cell_type": "code",
   "execution_count": 27,
   "id": "69d81761-c861-4e29-9087-a5b57f6b335c",
   "metadata": {},
   "outputs": [
    {
     "name": "stdout",
     "output_type": "stream",
     "text": [
      "('niraj', 23, 'Shegokar', 42.212, True, 'c')\n"
     ]
    }
   ],
   "source": [
    "name = (\"niraj\", 23,\"Shegokar\",42.212,True,'c')\n",
    "print(name)\n"
   ]
  },
  {
   "cell_type": "code",
   "execution_count": 28,
   "id": "3445c034-4a1f-423a-bb19-2b6484af6e4f",
   "metadata": {},
   "outputs": [
    {
     "name": "stdout",
     "output_type": "stream",
     "text": [
      "niraj\n",
      "('niraj', 23)\n",
      "('Shegokar', 42.212, True)\n",
      "6\n"
     ]
    }
   ],
   "source": [
    "name = (\"niraj\", 23,\"Shegokar\",42.212,True,'c')\n",
    "print(name[0])\n",
    "print(name[0:2])\n",
    "print(name[2:5])\n",
    "print(len(name))\n"
   ]
  },
  {
   "cell_type": "code",
   "execution_count": 29,
   "id": "ae3b9217-8937-480c-910d-33f36e56c51b",
   "metadata": {},
   "outputs": [
    {
     "name": "stdout",
     "output_type": "stream",
     "text": [
      "(21, 32, 1, 3, 443, 21, 121, 321, 34, 65, 67)\n"
     ]
    }
   ],
   "source": [
    "list1 = (21,32,1,3,443,21,121,321,34,65,67)\n",
    "print(list1)\n"
   ]
  },
  {
   "cell_type": "code",
   "execution_count": 32,
   "id": "b386e4db-8106-4f69-9ae2-9376492f7eff",
   "metadata": {},
   "outputs": [
    {
     "name": "stdout",
     "output_type": "stream",
     "text": [
      "[1, 3, 21, 21, 32, 34, 65, 67, 121, 321, 443]\n"
     ]
    }
   ],
   "source": [
    "list1 = (21,32,1,3,443,21,121,321,34,65,67)\n",
    "print(sorted(list1))\n"
   ]
  },
  {
   "cell_type": "code",
   "execution_count": 33,
   "id": "ae9b383b-591c-43b9-9d27-d5bf1859d55d",
   "metadata": {},
   "outputs": [
    {
     "name": "stdout",
     "output_type": "stream",
     "text": [
      "[1, 3, 21, 21, 32, 34, 65, 67, 121, 321, 443]\n"
     ]
    }
   ],
   "source": [
    "list1 = (21,32,1,3,443,21,121,321,34,65,67)\n",
    "list2 = sorted(list1)\n",
    "print(list2)"
   ]
  },
  {
   "cell_type": "code",
   "execution_count": 34,
   "id": "923261fe-3529-49e3-a6d4-ebac94faf220",
   "metadata": {},
   "outputs": [
    {
     "name": "stdout",
     "output_type": "stream",
     "text": [
      "niraj\n"
     ]
    }
   ],
   "source": [
    "name   = (1,(\"niraj\",\"Shegokar\"),2,(\"prasad\",\"shegokar\"))\n",
    "print(name[1][0])\n"
   ]
  },
  {
   "cell_type": "code",
   "execution_count": 35,
   "id": "8c8ef5e9-6c27-47a1-a41b-9dc6be5ed722",
   "metadata": {},
   "outputs": [
    {
     "name": "stdout",
     "output_type": "stream",
     "text": [
      "['niraj', 23.4, 55, ['hi', 'hello'], (75.4, 54, 'see')]\n"
     ]
    }
   ],
   "source": [
    "name= [\"niraj\",23.4,55,[\"hi\",\"hello\"],(75.4,54,\"see\")]\n",
    "print(name)\n"
   ]
  },
  {
   "cell_type": "code",
   "execution_count": 36,
   "id": "c9501ea3-fbc6-45d5-aa1d-727afb296f33",
   "metadata": {},
   "outputs": [
    {
     "name": "stdout",
     "output_type": "stream",
     "text": [
      "['niraj', 23.4, 55, ['hi', 'hello'], (75.4, 54, 'see')]\n",
      "niraj\n",
      "['niraj', 23.4, 55, ['hi', 'hello']]\n",
      "hello\n"
     ]
    }
   ],
   "source": [
    "name= [\"niraj\",23.4,55,[\"hi\",\"hello\"],(75.4,54,\"see\")]\n",
    "print(name)\n",
    "print(name[0])\n",
    "print(name[0:4])\n",
    "print(name[3][1])"
   ]
  },
  {
   "cell_type": "code",
   "execution_count": 38,
   "id": "48cfad2f-210b-4dc9-a51a-97f9d4d7a263",
   "metadata": {},
   "outputs": [
    {
     "name": "stdout",
     "output_type": "stream",
     "text": [
      "['niraj', 23.4, 55, ['hi', 'hello'], (75.4, 54, 'see'), [122, 32]]\n"
     ]
    }
   ],
   "source": [
    "name= [\"niraj\",23.4,55,[\"hi\",\"hello\"],(75.4,54,\"see\")]\n",
    "name.append([122,32])\n",
    "print(name)"
   ]
  },
  {
   "cell_type": "code",
   "execution_count": 39,
   "id": "ad2aa8b3-5ffa-4cdd-ae44-b1b155fcee69",
   "metadata": {},
   "outputs": [
    {
     "name": "stdout",
     "output_type": "stream",
     "text": [
      "['niraj', 23.4, 55, ['hi', 'hello'], (75.4, 54, 'see'), 21, 33]\n"
     ]
    }
   ],
   "source": [
    "name= [\"niraj\",23.4,55,[\"hi\",\"hello\"],(75.4,54,\"see\")]\n",
    "name.extend([21,33])\n",
    "print(name)"
   ]
  },
  {
   "cell_type": "code",
   "execution_count": 40,
   "id": "b741cefb-e3f0-4254-967a-786c9bfbc1ea",
   "metadata": {},
   "outputs": [
    {
     "name": "stdout",
     "output_type": "stream",
     "text": [
      "['Prasad', 23.4, 55, ['hi', 'hello'], (75.4, 54, 'see')]\n"
     ]
    }
   ],
   "source": [
    "name= [\"niraj\",23.4,55,[\"hi\",\"hello\"],(75.4,54,\"see\")]\n",
    "name[0]=\"Prasad\"\n",
    "print(name)\n"
   ]
  },
  {
   "cell_type": "code",
   "execution_count": 42,
   "id": "491deeb8-26dd-4e9e-aa54-187ca7ffc9db",
   "metadata": {},
   "outputs": [
    {
     "name": "stdout",
     "output_type": "stream",
     "text": [
      "5\n",
      "['niraj', 23.4, 55, ['hi', 'hello']]\n"
     ]
    }
   ],
   "source": [
    "name= [\"niraj\",23.4,55,[\"hi\",\"hello\"],(75.4,54,\"see\")]\n",
    "print(len(name))\n",
    "del(name[4])\n",
    "print(name)"
   ]
  },
  {
   "cell_type": "code",
   "execution_count": 43,
   "id": "418612d4-1d30-42a9-a8db-529b7cb4cdc7",
   "metadata": {},
   "outputs": [
    {
     "name": "stdout",
     "output_type": "stream",
     "text": [
      "['Niraj', 'Shegokar']\n"
     ]
    }
   ],
   "source": [
    "name= \"Niraj Shegokar\"\n",
    "name1 = name.split()\n",
    "print(name1)"
   ]
  },
  {
   "cell_type": "code",
   "execution_count": 44,
   "id": "d583558f-63e6-4d4c-8d00-b01e24733e5c",
   "metadata": {},
   "outputs": [
    {
     "name": "stdout",
     "output_type": "stream",
     "text": [
      "['Niraj', 'prasad', 'shegokar', 'hello']\n"
     ]
    }
   ],
   "source": [
    "name = 'Niraj,prasad,shegokar,hello'\n",
    "name2 = name.split(\",\")\n",
    "print(name2)"
   ]
  },
  {
   "cell_type": "code",
   "execution_count": 46,
   "id": "cf64c151-56ce-4afa-8474-132cfcd81214",
   "metadata": {},
   "outputs": [
    {
     "name": "stdout",
     "output_type": "stream",
     "text": [
      "['niraj', 'she', 89]\n",
      "['Prasad', 'she', 89]\n",
      "['niraj', 'she', 89]\n"
     ]
    }
   ],
   "source": [
    "name = ['niraj','she',89]\n",
    "name1 = name[:]\n",
    "print(name1)\n",
    "name[0]=\"Prasad\"\n",
    "print(name)\n",
    "print(name1)\n"
   ]
  },
  {
   "cell_type": "code",
   "execution_count": 49,
   "id": "16a1334a-be46-44b6-9322-feaa86eaedbd",
   "metadata": {},
   "outputs": [
    {
     "name": "stdout",
     "output_type": "stream",
     "text": [
      "Help on list object:\n",
      "\n",
      "class list(object)\n",
      " |  list(iterable=(), /)\n",
      " |  \n",
      " |  Built-in mutable sequence.\n",
      " |  \n",
      " |  If no argument is given, the constructor creates a new empty list.\n",
      " |  The argument must be an iterable if specified.\n",
      " |  \n",
      " |  Methods defined here:\n",
      " |  \n",
      " |  __add__(self, value, /)\n",
      " |      Return self+value.\n",
      " |  \n",
      " |  __contains__(self, key, /)\n",
      " |      Return key in self.\n",
      " |  \n",
      " |  __delitem__(self, key, /)\n",
      " |      Delete self[key].\n",
      " |  \n",
      " |  __eq__(self, value, /)\n",
      " |      Return self==value.\n",
      " |  \n",
      " |  __ge__(self, value, /)\n",
      " |      Return self>=value.\n",
      " |  \n",
      " |  __getattribute__(self, name, /)\n",
      " |      Return getattr(self, name).\n",
      " |  \n",
      " |  __getitem__(...)\n",
      " |      x.__getitem__(y) <==> x[y]\n",
      " |  \n",
      " |  __gt__(self, value, /)\n",
      " |      Return self>value.\n",
      " |  \n",
      " |  __iadd__(self, value, /)\n",
      " |      Implement self+=value.\n",
      " |  \n",
      " |  __imul__(self, value, /)\n",
      " |      Implement self*=value.\n",
      " |  \n",
      " |  __init__(self, /, *args, **kwargs)\n",
      " |      Initialize self.  See help(type(self)) for accurate signature.\n",
      " |  \n",
      " |  __iter__(self, /)\n",
      " |      Implement iter(self).\n",
      " |  \n",
      " |  __le__(self, value, /)\n",
      " |      Return self<=value.\n",
      " |  \n",
      " |  __len__(self, /)\n",
      " |      Return len(self).\n",
      " |  \n",
      " |  __lt__(self, value, /)\n",
      " |      Return self<value.\n",
      " |  \n",
      " |  __mul__(self, value, /)\n",
      " |      Return self*value.\n",
      " |  \n",
      " |  __ne__(self, value, /)\n",
      " |      Return self!=value.\n",
      " |  \n",
      " |  __repr__(self, /)\n",
      " |      Return repr(self).\n",
      " |  \n",
      " |  __reversed__(self, /)\n",
      " |      Return a reverse iterator over the list.\n",
      " |  \n",
      " |  __rmul__(self, value, /)\n",
      " |      Return value*self.\n",
      " |  \n",
      " |  __setitem__(self, key, value, /)\n",
      " |      Set self[key] to value.\n",
      " |  \n",
      " |  __sizeof__(self, /)\n",
      " |      Return the size of the list in memory, in bytes.\n",
      " |  \n",
      " |  append(self, object, /)\n",
      " |      Append object to the end of the list.\n",
      " |  \n",
      " |  clear(self, /)\n",
      " |      Remove all items from list.\n",
      " |  \n",
      " |  copy(self, /)\n",
      " |      Return a shallow copy of the list.\n",
      " |  \n",
      " |  count(self, value, /)\n",
      " |      Return number of occurrences of value.\n",
      " |  \n",
      " |  extend(self, iterable, /)\n",
      " |      Extend list by appending elements from the iterable.\n",
      " |  \n",
      " |  index(self, value, start=0, stop=9223372036854775807, /)\n",
      " |      Return first index of value.\n",
      " |      \n",
      " |      Raises ValueError if the value is not present.\n",
      " |  \n",
      " |  insert(self, index, object, /)\n",
      " |      Insert object before index.\n",
      " |  \n",
      " |  pop(self, index=-1, /)\n",
      " |      Remove and return item at index (default last).\n",
      " |      \n",
      " |      Raises IndexError if list is empty or index is out of range.\n",
      " |  \n",
      " |  remove(self, value, /)\n",
      " |      Remove first occurrence of value.\n",
      " |      \n",
      " |      Raises ValueError if the value is not present.\n",
      " |  \n",
      " |  reverse(self, /)\n",
      " |      Reverse *IN PLACE*.\n",
      " |  \n",
      " |  sort(self, /, *, key=None, reverse=False)\n",
      " |      Sort the list in ascending order and return None.\n",
      " |      \n",
      " |      The sort is in-place (i.e. the list itself is modified) and stable (i.e. the\n",
      " |      order of two equal elements is maintained).\n",
      " |      \n",
      " |      If a key function is given, apply it once to each list item and sort them,\n",
      " |      ascending or descending, according to their function values.\n",
      " |      \n",
      " |      The reverse flag can be set to sort in descending order.\n",
      " |  \n",
      " |  ----------------------------------------------------------------------\n",
      " |  Class methods defined here:\n",
      " |  \n",
      " |  __class_getitem__(...) from builtins.type\n",
      " |      See PEP 585\n",
      " |  \n",
      " |  ----------------------------------------------------------------------\n",
      " |  Static methods defined here:\n",
      " |  \n",
      " |  __new__(*args, **kwargs) from builtins.type\n",
      " |      Create and return a new object.  See help(type) for accurate signature.\n",
      " |  \n",
      " |  ----------------------------------------------------------------------\n",
      " |  Data and other attributes defined here:\n",
      " |  \n",
      " |  __hash__ = None\n",
      "\n",
      "['she', 89]\n"
     ]
    }
   ],
   "source": [
    "name = ['niraj','she',89]\n",
    "help(name)\n",
    "print(name[1:])"
   ]
  },
  {
   "cell_type": "code",
   "execution_count": 51,
   "id": "f14db89d-650b-45a8-8840-d857b0e32a73",
   "metadata": {},
   "outputs": [
    {
     "name": "stdout",
     "output_type": "stream",
     "text": [
      "{'hi', 21, 'thwere', 'hello', 'the'}\n"
     ]
    }
   ],
   "source": [
    "name = {\"the\",\"thwere\",\"hi\",\"hello\",\"hi\",21}\n",
    "print(name)"
   ]
  },
  {
   "cell_type": "code",
   "execution_count": 52,
   "id": "c9eabe2d-1756-43e3-9f0a-75ea6f498d5e",
   "metadata": {},
   "outputs": [
    {
     "name": "stdout",
     "output_type": "stream",
     "text": [
      "{21, 'kifj', 'ther'}\n"
     ]
    }
   ],
   "source": [
    "listt=[\"ther\",\"kifj\",21]\n",
    "name = set(listt)\n",
    "print(name)"
   ]
  },
  {
   "cell_type": "code",
   "execution_count": 54,
   "id": "db4a7d90-9250-4b35-afca-e604986d6d4b",
   "metadata": {},
   "outputs": [
    {
     "name": "stdout",
     "output_type": "stream",
     "text": [
      "True\n"
     ]
    }
   ],
   "source": [
    "name = {\"the\",\"thwere\",\"hi\",\"hello\",\"hi\",21}\n",
    "print(\"hi\" in name)\n"
   ]
  },
  {
   "cell_type": "code",
   "execution_count": 55,
   "id": "daa1bd1a-ea0a-484f-8b87-26a8d8293674",
   "metadata": {},
   "outputs": [
    {
     "name": "stdout",
     "output_type": "stream",
     "text": [
      "{'hi', 21}\n"
     ]
    }
   ],
   "source": [
    "s1 ={'hello','hi',21}\n",
    "s2={'hi',21}\n",
    "s3 = s1&s2\n",
    "print(s3)"
   ]
  },
  {
   "cell_type": "code",
   "execution_count": 58,
   "id": "21f98f59-b1dc-4c12-ad12-f6cc4b1b4623",
   "metadata": {},
   "outputs": [
    {
     "name": "stdout",
     "output_type": "stream",
     "text": [
      "True\n",
      "{'hi', 21, 'hello'}\n",
      "{'hi', 21}\n"
     ]
    }
   ],
   "source": [
    "s1 ={'hello','hi',21}\n",
    "s2={'hi',21}\n",
    "s3 = s1&s2\n",
    "s4= s1.union(s2)\n",
    "print(s2.issubset(s1))\n",
    "print(s4)\n",
    "print(s3)\n"
   ]
  },
  {
   "cell_type": "code",
   "execution_count": 68,
   "id": "b68571b5-9cb4-4159-8475-45c846ce10c4",
   "metadata": {},
   "outputs": [
    {
     "name": "stdout",
     "output_type": "stream",
     "text": [
      "{'hi': 1, 'hello': 2, 'bye': 3, 'heloooo': 4}\n",
      "True\n",
      "{'hello': 2, 'bye': 3, 'heloooo': 4, 'see': 21}\n"
     ]
    }
   ],
   "source": [
    "d= {\"hi\":1,'hello':2,'bye':3,\"heloooo\":4}\n",
    "print(d)\n",
    "d.keys()\n",
    "d.values()\n",
    "d[\"see\"]=21\n",
    "del(d['hi'])\n",
    "print('hello' in d)\n",
    "print(d)\n",
    "\n"
   ]
  },
  {
   "cell_type": "code",
   "execution_count": 69,
   "id": "db837eb8-0e7d-482f-954b-bf16f96f6fbc",
   "metadata": {},
   "outputs": [
    {
     "name": "stdout",
     "output_type": "stream",
     "text": [
      "(4, 4, 4)\n"
     ]
    }
   ],
   "source": [
    "Dict={\"A\":1,\"B\":\"2\",\"C\":[3,3,3],\"D\":(4,4,4),'E':5,'F':6}\n",
    "print(Dict[\"D\"])"
   ]
  },
  {
   "cell_type": "code",
   "execution_count": 70,
   "id": "02957e6b-5f3b-4cc6-91bf-ba6cfd3a7297",
   "metadata": {},
   "outputs": [
    {
     "name": "stdin",
     "output_type": "stream",
     "text": [
      "enter the age  17\n"
     ]
    },
    {
     "name": "stdout",
     "output_type": "stream",
     "text": [
      "GO drink milk\n",
      "move on\n"
     ]
    }
   ],
   "source": [
    "age=(int(input('enter the age ')))\n",
    "if(age>18):\n",
    "    print(\"Go to bar\")\n",
    "elif(age==18):\n",
    "    print(\"Go to pub\")\n",
    "else:\n",
    "    print(\"GO drink milk\")\n",
    "print('move on')"
   ]
  },
  {
   "cell_type": "code",
   "execution_count": 72,
   "id": "8da779b9-1ad4-4782-8e89-8f99b25c3236",
   "metadata": {},
   "outputs": [
    {
     "name": "stdout",
     "output_type": "stream",
     "text": [
      "This is a.\n"
     ]
    }
   ],
   "source": [
    "x='a'\n",
    "\n",
    "if(x!='a'):\n",
    "    print(\"This is not a.\")\n",
    "else:\n",
    "    print(\"This is a.\")"
   ]
  },
  {
   "cell_type": "code",
   "execution_count": 73,
   "id": "71a96668-6d81-419b-b546-ff44d2d1b128",
   "metadata": {},
   "outputs": [
    {
     "name": "stdout",
     "output_type": "stream",
     "text": [
      "1\n",
      "2\n",
      "3\n",
      "4\n",
      "5\n",
      "6\n",
      "7\n",
      "8\n",
      "9\n"
     ]
    }
   ],
   "source": [
    "i = 1\n",
    "for j in range(i,10):\n",
    "    print(j)"
   ]
  },
  {
   "cell_type": "code",
   "execution_count": 76,
   "id": "7e3f3021-9cf2-42e0-9f51-aeb4968ef2a8",
   "metadata": {},
   "outputs": [
    {
     "name": "stdout",
     "output_type": "stream",
     "text": [
      "hello\n",
      "hi\n",
      "whats up\n",
      "Nothing much\n"
     ]
    }
   ],
   "source": [
    "l = [\"hello\",'hi','whats up','Nothing much']\n",
    "for i in l:\n",
    "    print(i)\n"
   ]
  },
  {
   "cell_type": "code",
   "execution_count": 1,
   "id": "04299d37-9b7d-4d57-8ae7-d3b738250030",
   "metadata": {},
   "outputs": [
    {
     "name": "stdout",
     "output_type": "stream",
     "text": [
      "hello\n"
     ]
    }
   ],
   "source": [
    "print(\"hello\")"
   ]
  },
  {
   "cell_type": "code",
   "execution_count": 1,
   "id": "cac4e3df-8d8c-4c66-bcb0-a590e810a3f9",
   "metadata": {},
   "outputs": [
    {
     "name": "stdout",
     "output_type": "stream",
     "text": [
      "0\n",
      "1\n",
      "2\n",
      "3\n",
      "4\n",
      "5\n",
      "6\n",
      "7\n",
      "8\n",
      "9\n",
      "10\n",
      "11\n",
      "12\n",
      "13\n",
      "14\n",
      "15\n",
      "16\n",
      "17\n",
      "18\n",
      "19\n",
      "20\n",
      "21\n",
      "22\n"
     ]
    }
   ],
   "source": [
    "for i in range(0,23):\n",
    "    print(i)"
   ]
  },
  {
   "cell_type": "code",
   "execution_count": 2,
   "id": "ca2d84b1-cfe8-42a4-9e0a-69efcc6a2481",
   "metadata": {},
   "outputs": [
    {
     "name": "stdout",
     "output_type": "stream",
     "text": [
      "['orange', 'orange', 'orange']\n"
     ]
    }
   ],
   "source": [
    "square = ['orange', 'orange','orange','red']\n",
    "new = []\n",
    "i=0\n",
    "while(square[i]=='orange'):\n",
    "    new.append(square[i])\n",
    "    i+=1\n",
    "print(new)"
   ]
  },
  {
   "cell_type": "code",
   "execution_count": 3,
   "id": "89b3e2bd-a114-4fe1-8706-bdc3dfa423c4",
   "metadata": {},
   "outputs": [
    {
     "data": {
      "text/plain": [
       "132"
      ]
     },
     "execution_count": 3,
     "metadata": {},
     "output_type": "execute_result"
    }
   ],
   "source": [
    "def add(a,b):\n",
    "    return a+b\n",
    "\n",
    "add(90,42)\n"
   ]
  },
  {
   "cell_type": "code",
   "execution_count": 4,
   "id": "4fd4f32c-11bf-4c07-9ed3-b35b171fdf38",
   "metadata": {},
   "outputs": [
    {
     "name": "stdout",
     "output_type": "stream",
     "text": [
      "10101\n",
      "hjds\n",
      "hjdshs\n",
      "89\n"
     ]
    }
   ],
   "source": [
    "def lsit1(list11):\n",
    "    for i in list11:\n",
    "        print(i)\n",
    "\n",
    "list1 = [10101,'hjds','hjdshs',89]\n",
    "\n",
    "lsit1(list1)"
   ]
  },
  {
   "cell_type": "code",
   "execution_count": 16,
   "id": "8a492658-cfb5-4642-878a-1d380490be2f",
   "metadata": {},
   "outputs": [
    {
     "ename": "RecursionError",
     "evalue": "maximum recursion depth exceeded",
     "output_type": "error",
     "traceback": [
      "\u001b[1;31m---------------------------------------------------------------------------\u001b[0m",
      "\u001b[1;31mRecursionError\u001b[0m                            Traceback (most recent call last)",
      "Cell \u001b[1;32mIn[16], line 2\u001b[0m\n\u001b[0;32m      1\u001b[0m list1 \u001b[38;5;241m=\u001b[39m [\u001b[38;5;241m2\u001b[39m,\u001b[38;5;241m32\u001b[39m]\n\u001b[1;32m----> 2\u001b[0m c \u001b[38;5;241m=\u001b[39m \u001b[38;5;28;43msum\u001b[39;49m\u001b[43m(\u001b[49m\u001b[43mlist1\u001b[49m\u001b[43m)\u001b[49m\n\u001b[0;32m      4\u001b[0m tu \u001b[38;5;241m=\u001b[39m (\u001b[38;5;241m1\u001b[39m,\u001b[38;5;241m21\u001b[39m)\n\u001b[0;32m      5\u001b[0m s  \u001b[38;5;241m=\u001b[39m \u001b[38;5;28msum\u001b[39m(tu)\n",
      "Cell \u001b[1;32mIn[5], line 2\u001b[0m, in \u001b[0;36msum\u001b[1;34m(l1)\u001b[0m\n\u001b[0;32m      1\u001b[0m \u001b[38;5;28;01mdef\u001b[39;00m \u001b[38;5;21msum\u001b[39m(l1):\n\u001b[1;32m----> 2\u001b[0m     \u001b[38;5;28;01mreturn\u001b[39;00m \u001b[38;5;28;43msum\u001b[39;49m\u001b[43m(\u001b[49m\u001b[43ml1\u001b[49m\u001b[43m)\u001b[49m\n",
      "Cell \u001b[1;32mIn[5], line 2\u001b[0m, in \u001b[0;36msum\u001b[1;34m(l1)\u001b[0m\n\u001b[0;32m      1\u001b[0m \u001b[38;5;28;01mdef\u001b[39;00m \u001b[38;5;21msum\u001b[39m(l1):\n\u001b[1;32m----> 2\u001b[0m     \u001b[38;5;28;01mreturn\u001b[39;00m \u001b[38;5;28;43msum\u001b[39;49m\u001b[43m(\u001b[49m\u001b[43ml1\u001b[49m\u001b[43m)\u001b[49m\n",
      "    \u001b[1;31m[... skipping similar frames: sum at line 2 (2971 times)]\u001b[0m\n",
      "Cell \u001b[1;32mIn[5], line 2\u001b[0m, in \u001b[0;36msum\u001b[1;34m(l1)\u001b[0m\n\u001b[0;32m      1\u001b[0m \u001b[38;5;28;01mdef\u001b[39;00m \u001b[38;5;21msum\u001b[39m(l1):\n\u001b[1;32m----> 2\u001b[0m     \u001b[38;5;28;01mreturn\u001b[39;00m \u001b[38;5;28;43msum\u001b[39;49m\u001b[43m(\u001b[49m\u001b[43ml1\u001b[49m\u001b[43m)\u001b[49m\n",
      "\u001b[1;31mRecursionError\u001b[0m: maximum recursion depth exceeded"
     ]
    }
   ],
   "source": [
    "list1 = [2,32]\n",
    "c = sum(list1)\n",
    "\n",
    "tu = (1,21)\n",
    "s  = sum(tu)\n",
    "print(s)"
   ]
  },
  {
   "cell_type": "code",
   "execution_count": 26,
   "id": "735fa9fa-ebf4-48ed-954f-05caf79765a6",
   "metadata": {},
   "outputs": [
    {
     "name": "stdout",
     "output_type": "stream",
     "text": [
      "[32, 11, 2, 1, 31, 21]\n",
      "None\n",
      "[1, 2, 11, 21, 31, 32]\n",
      "6\n",
      "[1, 2, 11, 21, 31, 32]\n"
     ]
    }
   ],
   "source": [
    "l1 = [21,31,1,2,11,32]\n",
    "c= sorted(l1)\n",
    "l = len(l1)\n",
    "l1.reverse()\n",
    "print(l1)\n",
    "print(l2)\n",
    "ll = l1.sort()\n",
    "print(l1)\n",
    "print(l)\n",
    "print(c)"
   ]
  },
  {
   "cell_type": "code",
   "execution_count": 32,
   "id": "be361e37-1213-46d2-af3b-3cbc4791a184",
   "metadata": {},
   "outputs": [],
   "source": [
    "class Circle(object):\n",
    "\n",
    "    def _init_(self,radius,color):\n",
    "        self.radius = radius\n",
    "        self.color = color\n",
    "\n",
    "    def add_color(self,r):\n",
    "        self.radius = self.radius+r\n",
    "        return self.radius\n"
   ]
  },
  {
   "cell_type": "code",
   "execution_count": 34,
   "id": "016c2716-d88c-47be-88cf-766606f7372b",
   "metadata": {},
   "outputs": [
    {
     "ename": "TypeError",
     "evalue": "Circle() takes no arguments",
     "output_type": "error",
     "traceback": [
      "\u001b[1;31m---------------------------------------------------------------------------\u001b[0m",
      "\u001b[1;31mTypeError\u001b[0m                                 Traceback (most recent call last)",
      "Cell \u001b[1;32mIn[34], line 3\u001b[0m\n\u001b[0;32m      1\u001b[0m radius \u001b[38;5;241m=\u001b[39m \u001b[38;5;241m10\u001b[39m\n\u001b[0;32m      2\u001b[0m color \u001b[38;5;241m=\u001b[39m \u001b[38;5;124m\"\u001b[39m\u001b[38;5;124mred\u001b[39m\u001b[38;5;124m\"\u001b[39m\n\u001b[1;32m----> 3\u001b[0m c1 \u001b[38;5;241m=\u001b[39m \u001b[43mCircle\u001b[49m\u001b[43m(\u001b[49m\u001b[43mradius\u001b[49m\u001b[43m,\u001b[49m\u001b[43mcolor\u001b[49m\u001b[43m)\u001b[49m\n\u001b[0;32m      4\u001b[0m \u001b[38;5;28mprint\u001b[39m(c1\u001b[38;5;241m.\u001b[39mradius)\n",
      "\u001b[1;31mTypeError\u001b[0m: Circle() takes no arguments"
     ]
    }
   ],
   "source": [
    "radius = 10\n",
    "color = \"red\"\n",
    "c1 = Circle(radius,color)\n",
    "print(c1.radius)"
   ]
  },
  {
   "cell_type": "code",
   "execution_count": 36,
   "id": "fd81e975-f9fe-44f6-bf4a-fae75c2ee353",
   "metadata": {},
   "outputs": [
    {
     "name": "stdout",
     "output_type": "stream",
     "text": [
      "11\n",
      "22\n",
      "33\n"
     ]
    }
   ],
   "source": [
    "A = ['1','2','3']\n",
    "\n",
    "for a in A:\n",
    "\n",
    "    print(2*a)"
   ]
  },
  {
   "cell_type": "code",
   "execution_count": 37,
   "id": "d4a70684-ba8b-4c76-b8c3-fd2e58451fa3",
   "metadata": {},
   "outputs": [
    {
     "name": "stdout",
     "output_type": "stream",
     "text": [
      "hello\n"
     ]
    }
   ],
   "source": [
    "print('hello')"
   ]
  },
  {
   "cell_type": "code",
   "execution_count": 2,
   "id": "f56359d9-e7f3-4b9e-948a-1a124825091f",
   "metadata": {},
   "outputs": [
    {
     "data": {
      "text/html": [
       "<div>\n",
       "<style scoped>\n",
       "    .dataframe tbody tr th:only-of-type {\n",
       "        vertical-align: middle;\n",
       "    }\n",
       "\n",
       "    .dataframe tbody tr th {\n",
       "        vertical-align: top;\n",
       "    }\n",
       "\n",
       "    .dataframe thead th {\n",
       "        text-align: right;\n",
       "    }\n",
       "</style>\n",
       "<table border=\"1\" class=\"dataframe\">\n",
       "  <thead>\n",
       "    <tr style=\"text-align: right;\">\n",
       "      <th></th>\n",
       "      <th>movie_title</th>\n",
       "      <th>movie_info</th>\n",
       "      <th>critics_consensus</th>\n",
       "      <th>rating</th>\n",
       "      <th>genre</th>\n",
       "      <th>directors</th>\n",
       "      <th>writers</th>\n",
       "      <th>cast</th>\n",
       "      <th>in_theaters_date</th>\n",
       "      <th>on_streaming_date</th>\n",
       "      <th>runtime_in_minutes</th>\n",
       "      <th>studio_name</th>\n",
       "      <th>tomatometer_status</th>\n",
       "      <th>tomatometer_rating</th>\n",
       "      <th>tomatometer_count</th>\n",
       "      <th>audience_rating</th>\n",
       "    </tr>\n",
       "  </thead>\n",
       "  <tbody>\n",
       "    <tr>\n",
       "      <th>0</th>\n",
       "      <td>Percy Jackson &amp; the Olympians: The Lightning T...</td>\n",
       "      <td>A teenager discovers he's the descendant of a ...</td>\n",
       "      <td>Though it may seem like just another Harry Pot...</td>\n",
       "      <td>PG</td>\n",
       "      <td>Action &amp; Adventure, Comedy, Drama, Science Fic...</td>\n",
       "      <td>Chris Columbus</td>\n",
       "      <td>Craig Titley</td>\n",
       "      <td>Logan Lerman, Brandon T. Jackson, Alexandra Da...</td>\n",
       "      <td>2/12/2010</td>\n",
       "      <td>6/29/2010</td>\n",
       "      <td>83.0</td>\n",
       "      <td>20th Century Fox</td>\n",
       "      <td>Rotten</td>\n",
       "      <td>49</td>\n",
       "      <td>144</td>\n",
       "      <td>53.0</td>\n",
       "    </tr>\n",
       "    <tr>\n",
       "      <th>1</th>\n",
       "      <td>Please Give</td>\n",
       "      <td>Kate has a lot on her mind. There's the ethics...</td>\n",
       "      <td>Nicole Holofcener's newest might seem slight i...</td>\n",
       "      <td>R</td>\n",
       "      <td>Comedy</td>\n",
       "      <td>Nicole Holofcener</td>\n",
       "      <td>Nicole Holofcener</td>\n",
       "      <td>Catherine Keener, Amanda Peet, Oliver Platt, R...</td>\n",
       "      <td>4/30/2010</td>\n",
       "      <td>10/19/2010</td>\n",
       "      <td>90.0</td>\n",
       "      <td>Sony Pictures Classics</td>\n",
       "      <td>Certified Fresh</td>\n",
       "      <td>86</td>\n",
       "      <td>140</td>\n",
       "      <td>64.0</td>\n",
       "    </tr>\n",
       "    <tr>\n",
       "      <th>2</th>\n",
       "      <td>10</td>\n",
       "      <td>Blake Edwards' 10 stars Dudley Moore as George...</td>\n",
       "      <td>NaN</td>\n",
       "      <td>R</td>\n",
       "      <td>Comedy, Romance</td>\n",
       "      <td>Blake Edwards</td>\n",
       "      <td>Blake Edwards</td>\n",
       "      <td>Dudley Moore, Bo Derek, Julie Andrews, Robert ...</td>\n",
       "      <td>10/5/1979</td>\n",
       "      <td>8/27/1997</td>\n",
       "      <td>118.0</td>\n",
       "      <td>Waner Bros.</td>\n",
       "      <td>Fresh</td>\n",
       "      <td>68</td>\n",
       "      <td>22</td>\n",
       "      <td>53.0</td>\n",
       "    </tr>\n",
       "    <tr>\n",
       "      <th>3</th>\n",
       "      <td>12 Angry Men (Twelve Angry Men)</td>\n",
       "      <td>A Puerto Rican youth is on trial for murder, a...</td>\n",
       "      <td>Sidney Lumet's feature debut is a superbly wri...</td>\n",
       "      <td>NR</td>\n",
       "      <td>Classics, Drama</td>\n",
       "      <td>Sidney Lumet</td>\n",
       "      <td>Reginald Rose</td>\n",
       "      <td>Martin Balsam, John Fiedler, Lee J. Cobb, E.G....</td>\n",
       "      <td>4/13/1957</td>\n",
       "      <td>3/6/2001</td>\n",
       "      <td>95.0</td>\n",
       "      <td>Criterion Collection</td>\n",
       "      <td>Certified Fresh</td>\n",
       "      <td>100</td>\n",
       "      <td>51</td>\n",
       "      <td>97.0</td>\n",
       "    </tr>\n",
       "    <tr>\n",
       "      <th>4</th>\n",
       "      <td>20,000 Leagues Under The Sea</td>\n",
       "      <td>This 1954 Disney version of Jules Verne's 20,0...</td>\n",
       "      <td>One of Disney's finest live-action adventures,...</td>\n",
       "      <td>G</td>\n",
       "      <td>Action &amp; Adventure, Drama, Kids &amp; Family</td>\n",
       "      <td>Richard Fleischer</td>\n",
       "      <td>Earl Felton</td>\n",
       "      <td>James Mason, Kirk Douglas, Paul Lukas, Peter L...</td>\n",
       "      <td>1/1/1954</td>\n",
       "      <td>5/20/2003</td>\n",
       "      <td>127.0</td>\n",
       "      <td>Disney</td>\n",
       "      <td>Fresh</td>\n",
       "      <td>89</td>\n",
       "      <td>27</td>\n",
       "      <td>74.0</td>\n",
       "    </tr>\n",
       "  </tbody>\n",
       "</table>\n",
       "</div>"
      ],
      "text/plain": [
       "                                         movie_title  \\\n",
       "0  Percy Jackson & the Olympians: The Lightning T...   \n",
       "1                                        Please Give   \n",
       "2                                                 10   \n",
       "3                    12 Angry Men (Twelve Angry Men)   \n",
       "4                       20,000 Leagues Under The Sea   \n",
       "\n",
       "                                          movie_info  \\\n",
       "0  A teenager discovers he's the descendant of a ...   \n",
       "1  Kate has a lot on her mind. There's the ethics...   \n",
       "2  Blake Edwards' 10 stars Dudley Moore as George...   \n",
       "3  A Puerto Rican youth is on trial for murder, a...   \n",
       "4  This 1954 Disney version of Jules Verne's 20,0...   \n",
       "\n",
       "                                   critics_consensus rating  \\\n",
       "0  Though it may seem like just another Harry Pot...     PG   \n",
       "1  Nicole Holofcener's newest might seem slight i...      R   \n",
       "2                                                NaN      R   \n",
       "3  Sidney Lumet's feature debut is a superbly wri...     NR   \n",
       "4  One of Disney's finest live-action adventures,...      G   \n",
       "\n",
       "                                               genre          directors  \\\n",
       "0  Action & Adventure, Comedy, Drama, Science Fic...     Chris Columbus   \n",
       "1                                             Comedy  Nicole Holofcener   \n",
       "2                                    Comedy, Romance      Blake Edwards   \n",
       "3                                    Classics, Drama       Sidney Lumet   \n",
       "4           Action & Adventure, Drama, Kids & Family  Richard Fleischer   \n",
       "\n",
       "             writers                                               cast  \\\n",
       "0       Craig Titley  Logan Lerman, Brandon T. Jackson, Alexandra Da...   \n",
       "1  Nicole Holofcener  Catherine Keener, Amanda Peet, Oliver Platt, R...   \n",
       "2      Blake Edwards  Dudley Moore, Bo Derek, Julie Andrews, Robert ...   \n",
       "3      Reginald Rose  Martin Balsam, John Fiedler, Lee J. Cobb, E.G....   \n",
       "4        Earl Felton  James Mason, Kirk Douglas, Paul Lukas, Peter L...   \n",
       "\n",
       "  in_theaters_date on_streaming_date  runtime_in_minutes  \\\n",
       "0        2/12/2010         6/29/2010                83.0   \n",
       "1        4/30/2010        10/19/2010                90.0   \n",
       "2        10/5/1979         8/27/1997               118.0   \n",
       "3        4/13/1957          3/6/2001                95.0   \n",
       "4         1/1/1954         5/20/2003               127.0   \n",
       "\n",
       "              studio_name tomatometer_status  tomatometer_rating  \\\n",
       "0        20th Century Fox             Rotten                  49   \n",
       "1  Sony Pictures Classics    Certified Fresh                  86   \n",
       "2             Waner Bros.              Fresh                  68   \n",
       "3    Criterion Collection    Certified Fresh                 100   \n",
       "4                  Disney              Fresh                  89   \n",
       "\n",
       "   tomatometer_count  audience_rating  \n",
       "0                144             53.0  \n",
       "1                140             64.0  \n",
       "2                 22             53.0  \n",
       "3                 51             97.0  \n",
       "4                 27             74.0  "
      ]
     },
     "execution_count": 2,
     "metadata": {},
     "output_type": "execute_result"
    }
   ],
   "source": [
    "import pandas as pd\n",
    "data_frame = 'Rotten_Tomatoes_Movies3.csv'\n",
    "df = pd.read_csv(data_frame)\n",
    "df.head()"
   ]
  },
  {
   "cell_type": "code",
   "execution_count": 3,
   "id": "968d8fa8-a1d1-4906-80a3-3c02eaba87f7",
   "metadata": {},
   "outputs": [
    {
     "ename": "AttributeError",
     "evalue": "'DataFrame' object has no attribute 'ix'",
     "output_type": "error",
     "traceback": [
      "\u001b[1;31m---------------------------------------------------------------------------\u001b[0m",
      "\u001b[1;31mAttributeError\u001b[0m                            Traceback (most recent call last)",
      "\u001b[1;32m~\\AppData\\Local\\Temp\\ipykernel_13472\\2257242207.py\u001b[0m in \u001b[0;36m?\u001b[1;34m()\u001b[0m\n\u001b[1;32m----> 1\u001b[1;33m \u001b[0mdf\u001b[0m\u001b[1;33m.\u001b[0m\u001b[0mix\u001b[0m\u001b[1;33m(\u001b[0m\u001b[1;36m0\u001b[0m\u001b[1;33m,\u001b[0m\u001b[1;36m1\u001b[0m\u001b[1;33m)\u001b[0m\u001b[1;33m\u001b[0m\u001b[1;33m\u001b[0m\u001b[0m\n\u001b[0m",
      "\u001b[1;32m~\\AppData\\Roaming\\Python\\Python311\\site-packages\\pandas\\core\\generic.py\u001b[0m in \u001b[0;36m?\u001b[1;34m(self, name)\u001b[0m\n\u001b[0;32m   5985\u001b[0m             \u001b[1;32mand\u001b[0m \u001b[0mname\u001b[0m \u001b[1;32mnot\u001b[0m \u001b[1;32min\u001b[0m \u001b[0mself\u001b[0m\u001b[1;33m.\u001b[0m\u001b[0m_accessors\u001b[0m\u001b[1;33m\u001b[0m\u001b[1;33m\u001b[0m\u001b[0m\n\u001b[0;32m   5986\u001b[0m             \u001b[1;32mand\u001b[0m \u001b[0mself\u001b[0m\u001b[1;33m.\u001b[0m\u001b[0m_info_axis\u001b[0m\u001b[1;33m.\u001b[0m\u001b[0m_can_hold_identifiers_and_holds_name\u001b[0m\u001b[1;33m(\u001b[0m\u001b[0mname\u001b[0m\u001b[1;33m)\u001b[0m\u001b[1;33m\u001b[0m\u001b[1;33m\u001b[0m\u001b[0m\n\u001b[0;32m   5987\u001b[0m         ):\n\u001b[0;32m   5988\u001b[0m             \u001b[1;32mreturn\u001b[0m \u001b[0mself\u001b[0m\u001b[1;33m[\u001b[0m\u001b[0mname\u001b[0m\u001b[1;33m]\u001b[0m\u001b[1;33m\u001b[0m\u001b[1;33m\u001b[0m\u001b[0m\n\u001b[1;32m-> 5989\u001b[1;33m         \u001b[1;32mreturn\u001b[0m \u001b[0mobject\u001b[0m\u001b[1;33m.\u001b[0m\u001b[0m__getattribute__\u001b[0m\u001b[1;33m(\u001b[0m\u001b[0mself\u001b[0m\u001b[1;33m,\u001b[0m \u001b[0mname\u001b[0m\u001b[1;33m)\u001b[0m\u001b[1;33m\u001b[0m\u001b[1;33m\u001b[0m\u001b[0m\n\u001b[0m",
      "\u001b[1;31mAttributeError\u001b[0m: 'DataFrame' object has no attribute 'ix'"
     ]
    }
   ],
   "source": [
    "df.ix(0,1)"
   ]
  },
  {
   "cell_type": "code",
   "execution_count": 7,
   "id": "b64ba205-2fa2-4fa7-bbe4-4f736fc29fae",
   "metadata": {},
   "outputs": [
    {
     "data": {
      "text/html": [
       "<div>\n",
       "<style scoped>\n",
       "    .dataframe tbody tr th:only-of-type {\n",
       "        vertical-align: middle;\n",
       "    }\n",
       "\n",
       "    .dataframe tbody tr th {\n",
       "        vertical-align: top;\n",
       "    }\n",
       "\n",
       "    .dataframe thead th {\n",
       "        text-align: right;\n",
       "    }\n",
       "</style>\n",
       "<table border=\"1\" class=\"dataframe\">\n",
       "  <thead>\n",
       "    <tr style=\"text-align: right;\">\n",
       "      <th></th>\n",
       "      <th>movie_title</th>\n",
       "      <th>movie_info</th>\n",
       "      <th>critics_consensus</th>\n",
       "      <th>rating</th>\n",
       "      <th>genre</th>\n",
       "      <th>directors</th>\n",
       "      <th>writers</th>\n",
       "      <th>cast</th>\n",
       "      <th>in_theaters_date</th>\n",
       "      <th>on_streaming_date</th>\n",
       "      <th>runtime_in_minutes</th>\n",
       "      <th>studio_name</th>\n",
       "      <th>tomatometer_status</th>\n",
       "      <th>tomatometer_rating</th>\n",
       "      <th>tomatometer_count</th>\n",
       "      <th>audience_rating</th>\n",
       "    </tr>\n",
       "  </thead>\n",
       "  <tbody>\n",
       "    <tr>\n",
       "      <th>0</th>\n",
       "      <td>Percy Jackson &amp; the Olympians: The Lightning T...</td>\n",
       "      <td>A teenager discovers he's the descendant of a ...</td>\n",
       "      <td>Though it may seem like just another Harry Pot...</td>\n",
       "      <td>PG</td>\n",
       "      <td>Action &amp; Adventure, Comedy, Drama, Science Fic...</td>\n",
       "      <td>Chris Columbus</td>\n",
       "      <td>Craig Titley</td>\n",
       "      <td>Logan Lerman, Brandon T. Jackson, Alexandra Da...</td>\n",
       "      <td>2/12/2010</td>\n",
       "      <td>6/29/2010</td>\n",
       "      <td>83.0</td>\n",
       "      <td>20th Century Fox</td>\n",
       "      <td>Rotten</td>\n",
       "      <td>49</td>\n",
       "      <td>144</td>\n",
       "      <td>53.0</td>\n",
       "    </tr>\n",
       "    <tr>\n",
       "      <th>1</th>\n",
       "      <td>Please Give</td>\n",
       "      <td>Kate has a lot on her mind. There's the ethics...</td>\n",
       "      <td>Nicole Holofcener's newest might seem slight i...</td>\n",
       "      <td>R</td>\n",
       "      <td>Comedy</td>\n",
       "      <td>Nicole Holofcener</td>\n",
       "      <td>Nicole Holofcener</td>\n",
       "      <td>Catherine Keener, Amanda Peet, Oliver Platt, R...</td>\n",
       "      <td>4/30/2010</td>\n",
       "      <td>10/19/2010</td>\n",
       "      <td>90.0</td>\n",
       "      <td>Sony Pictures Classics</td>\n",
       "      <td>Certified Fresh</td>\n",
       "      <td>86</td>\n",
       "      <td>140</td>\n",
       "      <td>64.0</td>\n",
       "    </tr>\n",
       "    <tr>\n",
       "      <th>2</th>\n",
       "      <td>10</td>\n",
       "      <td>Blake Edwards' 10 stars Dudley Moore as George...</td>\n",
       "      <td>NaN</td>\n",
       "      <td>R</td>\n",
       "      <td>Comedy, Romance</td>\n",
       "      <td>Blake Edwards</td>\n",
       "      <td>Blake Edwards</td>\n",
       "      <td>Dudley Moore, Bo Derek, Julie Andrews, Robert ...</td>\n",
       "      <td>10/5/1979</td>\n",
       "      <td>8/27/1997</td>\n",
       "      <td>118.0</td>\n",
       "      <td>Waner Bros.</td>\n",
       "      <td>Fresh</td>\n",
       "      <td>68</td>\n",
       "      <td>22</td>\n",
       "      <td>53.0</td>\n",
       "    </tr>\n",
       "  </tbody>\n",
       "</table>\n",
       "</div>"
      ],
      "text/plain": [
       "                                         movie_title  \\\n",
       "0  Percy Jackson & the Olympians: The Lightning T...   \n",
       "1                                        Please Give   \n",
       "2                                                 10   \n",
       "\n",
       "                                          movie_info  \\\n",
       "0  A teenager discovers he's the descendant of a ...   \n",
       "1  Kate has a lot on her mind. There's the ethics...   \n",
       "2  Blake Edwards' 10 stars Dudley Moore as George...   \n",
       "\n",
       "                                   critics_consensus rating  \\\n",
       "0  Though it may seem like just another Harry Pot...     PG   \n",
       "1  Nicole Holofcener's newest might seem slight i...      R   \n",
       "2                                                NaN      R   \n",
       "\n",
       "                                               genre          directors  \\\n",
       "0  Action & Adventure, Comedy, Drama, Science Fic...     Chris Columbus   \n",
       "1                                             Comedy  Nicole Holofcener   \n",
       "2                                    Comedy, Romance      Blake Edwards   \n",
       "\n",
       "             writers                                               cast  \\\n",
       "0       Craig Titley  Logan Lerman, Brandon T. Jackson, Alexandra Da...   \n",
       "1  Nicole Holofcener  Catherine Keener, Amanda Peet, Oliver Platt, R...   \n",
       "2      Blake Edwards  Dudley Moore, Bo Derek, Julie Andrews, Robert ...   \n",
       "\n",
       "  in_theaters_date on_streaming_date  runtime_in_minutes  \\\n",
       "0        2/12/2010         6/29/2010                83.0   \n",
       "1        4/30/2010        10/19/2010                90.0   \n",
       "2        10/5/1979         8/27/1997               118.0   \n",
       "\n",
       "              studio_name tomatometer_status  tomatometer_rating  \\\n",
       "0        20th Century Fox             Rotten                  49   \n",
       "1  Sony Pictures Classics    Certified Fresh                  86   \n",
       "2             Waner Bros.              Fresh                  68   \n",
       "\n",
       "   tomatometer_count  audience_rating  \n",
       "0                144             53.0  \n",
       "1                140             64.0  \n",
       "2                 22             53.0  "
      ]
     },
     "execution_count": 7,
     "metadata": {},
     "output_type": "execute_result"
    }
   ],
   "source": [
    "import pandas as pd\n",
    "data_frame = 'Rotten_Tomatoes_Movies3.csv'\n",
    "df = pd.read_csv(data_frame)\n",
    "df.head(3)"
   ]
  },
  {
   "cell_type": "code",
   "execution_count": 12,
   "id": "7de25eb9-bc24-4ae7-867e-242e4608fda0",
   "metadata": {},
   "outputs": [
    {
     "data": {
      "text/plain": [
       "0     Niraj\n",
       "1    Prasad\n",
       "2      Maya\n",
       "3    Vsaant\n",
       "Name: Name, dtype: object"
      ]
     },
     "execution_count": 12,
     "metadata": {},
     "output_type": "execute_result"
    }
   ],
   "source": [
    "import pandas as pd\n",
    "df = pd.DataFrame({'Name':['Niraj','Prasad','Maya','Vsaant'],'Age':[25,29,49,59]})\n",
    "df.head(2)\n",
    "df['Age']\n",
    "df['Name']"
   ]
  },
  {
   "cell_type": "code",
   "execution_count": 35,
   "id": "64d7b1e3-7841-4d36-8740-2b42a521f978",
   "metadata": {},
   "outputs": [
    {
     "data": {
      "text/html": [
       "<div>\n",
       "<style scoped>\n",
       "    .dataframe tbody tr th:only-of-type {\n",
       "        vertical-align: middle;\n",
       "    }\n",
       "\n",
       "    .dataframe tbody tr th {\n",
       "        vertical-align: top;\n",
       "    }\n",
       "\n",
       "    .dataframe thead th {\n",
       "        text-align: right;\n",
       "    }\n",
       "</style>\n",
       "<table border=\"1\" class=\"dataframe\">\n",
       "  <thead>\n",
       "    <tr style=\"text-align: right;\">\n",
       "      <th></th>\n",
       "      <th>in_theaters_date</th>\n",
       "      <th>writers</th>\n",
       "      <th>cast</th>\n",
       "    </tr>\n",
       "  </thead>\n",
       "  <tbody>\n",
       "    <tr>\n",
       "      <th>0</th>\n",
       "      <td>2/12/2010</td>\n",
       "      <td>Craig Titley</td>\n",
       "      <td>Logan Lerman, Brandon T. Jackson, Alexandra Da...</td>\n",
       "    </tr>\n",
       "    <tr>\n",
       "      <th>1</th>\n",
       "      <td>4/30/2010</td>\n",
       "      <td>Nicole Holofcener</td>\n",
       "      <td>Catherine Keener, Amanda Peet, Oliver Platt, R...</td>\n",
       "    </tr>\n",
       "    <tr>\n",
       "      <th>2</th>\n",
       "      <td>10/5/1979</td>\n",
       "      <td>Blake Edwards</td>\n",
       "      <td>Dudley Moore, Bo Derek, Julie Andrews, Robert ...</td>\n",
       "    </tr>\n",
       "    <tr>\n",
       "      <th>3</th>\n",
       "      <td>4/13/1957</td>\n",
       "      <td>Reginald Rose</td>\n",
       "      <td>Martin Balsam, John Fiedler, Lee J. Cobb, E.G....</td>\n",
       "    </tr>\n",
       "    <tr>\n",
       "      <th>4</th>\n",
       "      <td>1/1/1954</td>\n",
       "      <td>Earl Felton</td>\n",
       "      <td>James Mason, Kirk Douglas, Paul Lukas, Peter L...</td>\n",
       "    </tr>\n",
       "  </tbody>\n",
       "</table>\n",
       "</div>"
      ],
      "text/plain": [
       "  in_theaters_date            writers  \\\n",
       "0        2/12/2010       Craig Titley   \n",
       "1        4/30/2010  Nicole Holofcener   \n",
       "2        10/5/1979      Blake Edwards   \n",
       "3        4/13/1957      Reginald Rose   \n",
       "4         1/1/1954        Earl Felton   \n",
       "\n",
       "                                                cast  \n",
       "0  Logan Lerman, Brandon T. Jackson, Alexandra Da...  \n",
       "1  Catherine Keener, Amanda Peet, Oliver Platt, R...  \n",
       "2  Dudley Moore, Bo Derek, Julie Andrews, Robert ...  \n",
       "3  Martin Balsam, John Fiedler, Lee J. Cobb, E.G....  \n",
       "4  James Mason, Kirk Douglas, Paul Lukas, Peter L...  "
      ]
     },
     "execution_count": 35,
     "metadata": {},
     "output_type": "execute_result"
    }
   ],
   "source": [
    "import pandas as pd\n",
    "data_frame = 'Rotten_Tomatoes_Movies3.csv'\n",
    "df = pd.read_csv(data_frame)\n",
    "# df.head()\n",
    "# df['in_theaters_date'].unique()\n",
    "x = df[['in_theaters_date','writers','cast']] \n",
    "x.head()"
   ]
  },
  {
   "cell_type": "code",
   "execution_count": 32,
   "id": "c1d3e934-4e94-46f8-a432-190fddad3448",
   "metadata": {},
   "outputs": [],
   "source": [
    "import pandas as pd\n",
    "df = pd.DataFrame({'Name':['Niraj','Prasad','Maya','Vsaant'],'Age':[25,29,49,59]})\n",
    "df['Age'] >= 30\n",
    "df1 =df[df['Age']>=30]\n",
    "df1.head()\n",
    "df1.to_csv('New_Age')"
   ]
  },
  {
   "cell_type": "code",
   "execution_count": 38,
   "id": "fb907ecb-4ccd-411e-8b80-5d425bcbe3b7",
   "metadata": {},
   "outputs": [
    {
     "data": {
      "text/plain": [
       "\"A teenager discovers he's the descendant of a Greek god and sets out on an adventure to settle an on-going battle between the gods.\""
      ]
     },
     "execution_count": 38,
     "metadata": {},
     "output_type": "execute_result"
    }
   ],
   "source": [
    "import pandas as pd\n",
    "data_frame = 'Rotten_Tomatoes_Movies3.csv'\n",
    "df = pd.read_csv(data_frame)\n",
    "df.iloc[0,1]"
   ]
  },
  {
   "cell_type": "code",
   "execution_count": 41,
   "id": "86d4860e-6d2a-4ae2-bb11-3f2cdeebdef6",
   "metadata": {},
   "outputs": [
    {
     "data": {
      "text/plain": [
       "'R'"
      ]
     },
     "execution_count": 41,
     "metadata": {},
     "output_type": "execute_result"
    }
   ],
   "source": [
    "import pandas as pd\n",
    "data_frame = 'Rotten_Tomatoes_Movies3.csv'\n",
    "df = pd.read_csv(data_frame)\n",
    "df.head()\n",
    "df.iloc[1,3]"
   ]
  },
  {
   "cell_type": "code",
   "execution_count": 44,
   "id": "b87ac651-e89b-47fb-b867-4e7350ec08d1",
   "metadata": {},
   "outputs": [
    {
     "data": {
      "text/plain": [
       "'Blake Edwards'"
      ]
     },
     "execution_count": 44,
     "metadata": {},
     "output_type": "execute_result"
    }
   ],
   "source": [
    "import pandas as pd\n",
    "data_frame = 'Rotten_Tomatoes_Movies3.csv'\n",
    "df = pd.read_csv(data_frame)\n",
    "df.head()\n",
    "df.loc[2,'directors']"
   ]
  },
  {
   "cell_type": "code",
   "execution_count": 50,
   "id": "80bd9046-81bc-47b2-a174-bc2fa18a295c",
   "metadata": {},
   "outputs": [
    {
     "data": {
      "text/html": [
       "<div>\n",
       "<style scoped>\n",
       "    .dataframe tbody tr th:only-of-type {\n",
       "        vertical-align: middle;\n",
       "    }\n",
       "\n",
       "    .dataframe tbody tr th {\n",
       "        vertical-align: top;\n",
       "    }\n",
       "\n",
       "    .dataframe thead th {\n",
       "        text-align: right;\n",
       "    }\n",
       "</style>\n",
       "<table border=\"1\" class=\"dataframe\">\n",
       "  <thead>\n",
       "    <tr style=\"text-align: right;\">\n",
       "      <th></th>\n",
       "      <th>movie_title</th>\n",
       "      <th>movie_info</th>\n",
       "      <th>critics_consensus</th>\n",
       "      <th>rating</th>\n",
       "      <th>genre</th>\n",
       "      <th>directors</th>\n",
       "      <th>writers</th>\n",
       "      <th>cast</th>\n",
       "      <th>in_theaters_date</th>\n",
       "      <th>on_streaming_date</th>\n",
       "      <th>runtime_in_minutes</th>\n",
       "      <th>studio_name</th>\n",
       "      <th>tomatometer_status</th>\n",
       "      <th>tomatometer_rating</th>\n",
       "      <th>tomatometer_count</th>\n",
       "      <th>audience_rating</th>\n",
       "    </tr>\n",
       "  </thead>\n",
       "  <tbody>\n",
       "    <tr>\n",
       "      <th>0</th>\n",
       "      <td>Percy Jackson &amp; the Olympians: The Lightning T...</td>\n",
       "      <td>A teenager discovers he's the descendant of a ...</td>\n",
       "      <td>Though it may seem like just another Harry Pot...</td>\n",
       "      <td>PG</td>\n",
       "      <td>Action &amp; Adventure, Comedy, Drama, Science Fic...</td>\n",
       "      <td>Chris Columbus</td>\n",
       "      <td>Craig Titley</td>\n",
       "      <td>Logan Lerman, Brandon T. Jackson, Alexandra Da...</td>\n",
       "      <td>2/12/2010</td>\n",
       "      <td>6/29/2010</td>\n",
       "      <td>83.0</td>\n",
       "      <td>20th Century Fox</td>\n",
       "      <td>Rotten</td>\n",
       "      <td>49</td>\n",
       "      <td>144</td>\n",
       "      <td>53.0</td>\n",
       "    </tr>\n",
       "    <tr>\n",
       "      <th>1</th>\n",
       "      <td>Please Give</td>\n",
       "      <td>Kate has a lot on her mind. There's the ethics...</td>\n",
       "      <td>Nicole Holofcener's newest might seem slight i...</td>\n",
       "      <td>R</td>\n",
       "      <td>Comedy</td>\n",
       "      <td>Nicole Holofcener</td>\n",
       "      <td>Nicole Holofcener</td>\n",
       "      <td>Catherine Keener, Amanda Peet, Oliver Platt, R...</td>\n",
       "      <td>4/30/2010</td>\n",
       "      <td>10/19/2010</td>\n",
       "      <td>90.0</td>\n",
       "      <td>Sony Pictures Classics</td>\n",
       "      <td>Certified Fresh</td>\n",
       "      <td>86</td>\n",
       "      <td>140</td>\n",
       "      <td>64.0</td>\n",
       "    </tr>\n",
       "    <tr>\n",
       "      <th>2</th>\n",
       "      <td>10</td>\n",
       "      <td>Blake Edwards' 10 stars Dudley Moore as George...</td>\n",
       "      <td>NaN</td>\n",
       "      <td>R</td>\n",
       "      <td>Comedy, Romance</td>\n",
       "      <td>Blake Edwards</td>\n",
       "      <td>Blake Edwards</td>\n",
       "      <td>Dudley Moore, Bo Derek, Julie Andrews, Robert ...</td>\n",
       "      <td>10/5/1979</td>\n",
       "      <td>8/27/1997</td>\n",
       "      <td>118.0</td>\n",
       "      <td>Waner Bros.</td>\n",
       "      <td>Fresh</td>\n",
       "      <td>68</td>\n",
       "      <td>22</td>\n",
       "      <td>53.0</td>\n",
       "    </tr>\n",
       "  </tbody>\n",
       "</table>\n",
       "</div>"
      ],
      "text/plain": [
       "                                         movie_title  \\\n",
       "0  Percy Jackson & the Olympians: The Lightning T...   \n",
       "1                                        Please Give   \n",
       "2                                                 10   \n",
       "\n",
       "                                          movie_info  \\\n",
       "0  A teenager discovers he's the descendant of a ...   \n",
       "1  Kate has a lot on her mind. There's the ethics...   \n",
       "2  Blake Edwards' 10 stars Dudley Moore as George...   \n",
       "\n",
       "                                   critics_consensus rating  \\\n",
       "0  Though it may seem like just another Harry Pot...     PG   \n",
       "1  Nicole Holofcener's newest might seem slight i...      R   \n",
       "2                                                NaN      R   \n",
       "\n",
       "                                               genre          directors  \\\n",
       "0  Action & Adventure, Comedy, Drama, Science Fic...     Chris Columbus   \n",
       "1                                             Comedy  Nicole Holofcener   \n",
       "2                                    Comedy, Romance      Blake Edwards   \n",
       "\n",
       "             writers                                               cast  \\\n",
       "0       Craig Titley  Logan Lerman, Brandon T. Jackson, Alexandra Da...   \n",
       "1  Nicole Holofcener  Catherine Keener, Amanda Peet, Oliver Platt, R...   \n",
       "2      Blake Edwards  Dudley Moore, Bo Derek, Julie Andrews, Robert ...   \n",
       "\n",
       "  in_theaters_date on_streaming_date  runtime_in_minutes  \\\n",
       "0        2/12/2010         6/29/2010                83.0   \n",
       "1        4/30/2010        10/19/2010                90.0   \n",
       "2        10/5/1979         8/27/1997               118.0   \n",
       "\n",
       "              studio_name tomatometer_status  tomatometer_rating  \\\n",
       "0        20th Century Fox             Rotten                  49   \n",
       "1  Sony Pictures Classics    Certified Fresh                  86   \n",
       "2             Waner Bros.              Fresh                  68   \n",
       "\n",
       "   tomatometer_count  audience_rating  \n",
       "0                144             53.0  \n",
       "1                140             64.0  \n",
       "2                 22             53.0  "
      ]
     },
     "execution_count": 50,
     "metadata": {},
     "output_type": "execute_result"
    }
   ],
   "source": [
    "import pandas as pd\n",
    "data_frame = 'Rotten_Tomatoes_Movies3.csv'\n",
    "df = pd.read_csv(data_frame)\n",
    "df.iloc[0:3,0:6]\n",
    "df.iloc[0:3,]\n"
   ]
  },
  {
   "cell_type": "code",
   "execution_count": 53,
   "id": "12867732-0e75-4344-9d55-2a26baca8657",
   "metadata": {},
   "outputs": [
    {
     "data": {
      "text/html": [
       "<div>\n",
       "<style scoped>\n",
       "    .dataframe tbody tr th:only-of-type {\n",
       "        vertical-align: middle;\n",
       "    }\n",
       "\n",
       "    .dataframe tbody tr th {\n",
       "        vertical-align: top;\n",
       "    }\n",
       "\n",
       "    .dataframe thead th {\n",
       "        text-align: right;\n",
       "    }\n",
       "</style>\n",
       "<table border=\"1\" class=\"dataframe\">\n",
       "  <thead>\n",
       "    <tr style=\"text-align: right;\">\n",
       "      <th></th>\n",
       "      <th>writers</th>\n",
       "      <th>cast</th>\n",
       "      <th>in_theaters_date</th>\n",
       "      <th>on_streaming_date</th>\n",
       "      <th>runtime_in_minutes</th>\n",
       "      <th>studio_name</th>\n",
       "      <th>tomatometer_status</th>\n",
       "      <th>tomatometer_rating</th>\n",
       "      <th>tomatometer_count</th>\n",
       "      <th>audience_rating</th>\n",
       "    </tr>\n",
       "  </thead>\n",
       "  <tbody>\n",
       "    <tr>\n",
       "      <th>0</th>\n",
       "      <td>Craig Titley</td>\n",
       "      <td>Logan Lerman, Brandon T. Jackson, Alexandra Da...</td>\n",
       "      <td>2/12/2010</td>\n",
       "      <td>6/29/2010</td>\n",
       "      <td>83.0</td>\n",
       "      <td>20th Century Fox</td>\n",
       "      <td>Rotten</td>\n",
       "      <td>49</td>\n",
       "      <td>144</td>\n",
       "      <td>53.0</td>\n",
       "    </tr>\n",
       "    <tr>\n",
       "      <th>1</th>\n",
       "      <td>Nicole Holofcener</td>\n",
       "      <td>Catherine Keener, Amanda Peet, Oliver Platt, R...</td>\n",
       "      <td>4/30/2010</td>\n",
       "      <td>10/19/2010</td>\n",
       "      <td>90.0</td>\n",
       "      <td>Sony Pictures Classics</td>\n",
       "      <td>Certified Fresh</td>\n",
       "      <td>86</td>\n",
       "      <td>140</td>\n",
       "      <td>64.0</td>\n",
       "    </tr>\n",
       "    <tr>\n",
       "      <th>2</th>\n",
       "      <td>Blake Edwards</td>\n",
       "      <td>Dudley Moore, Bo Derek, Julie Andrews, Robert ...</td>\n",
       "      <td>10/5/1979</td>\n",
       "      <td>8/27/1997</td>\n",
       "      <td>118.0</td>\n",
       "      <td>Waner Bros.</td>\n",
       "      <td>Fresh</td>\n",
       "      <td>68</td>\n",
       "      <td>22</td>\n",
       "      <td>53.0</td>\n",
       "    </tr>\n",
       "    <tr>\n",
       "      <th>3</th>\n",
       "      <td>Reginald Rose</td>\n",
       "      <td>Martin Balsam, John Fiedler, Lee J. Cobb, E.G....</td>\n",
       "      <td>4/13/1957</td>\n",
       "      <td>3/6/2001</td>\n",
       "      <td>95.0</td>\n",
       "      <td>Criterion Collection</td>\n",
       "      <td>Certified Fresh</td>\n",
       "      <td>100</td>\n",
       "      <td>51</td>\n",
       "      <td>97.0</td>\n",
       "    </tr>\n",
       "  </tbody>\n",
       "</table>\n",
       "</div>"
      ],
      "text/plain": [
       "             writers                                               cast  \\\n",
       "0       Craig Titley  Logan Lerman, Brandon T. Jackson, Alexandra Da...   \n",
       "1  Nicole Holofcener  Catherine Keener, Amanda Peet, Oliver Platt, R...   \n",
       "2      Blake Edwards  Dudley Moore, Bo Derek, Julie Andrews, Robert ...   \n",
       "3      Reginald Rose  Martin Balsam, John Fiedler, Lee J. Cobb, E.G....   \n",
       "\n",
       "  in_theaters_date on_streaming_date  runtime_in_minutes  \\\n",
       "0        2/12/2010         6/29/2010                83.0   \n",
       "1        4/30/2010        10/19/2010                90.0   \n",
       "2        10/5/1979         8/27/1997               118.0   \n",
       "3        4/13/1957          3/6/2001                95.0   \n",
       "\n",
       "              studio_name tomatometer_status  tomatometer_rating  \\\n",
       "0        20th Century Fox             Rotten                  49   \n",
       "1  Sony Pictures Classics    Certified Fresh                  86   \n",
       "2             Waner Bros.              Fresh                  68   \n",
       "3    Criterion Collection    Certified Fresh                 100   \n",
       "\n",
       "   tomatometer_count  audience_rating  \n",
       "0                144             53.0  \n",
       "1                140             64.0  \n",
       "2                 22             53.0  \n",
       "3                 51             97.0  "
      ]
     },
     "execution_count": 53,
     "metadata": {},
     "output_type": "execute_result"
    }
   ],
   "source": [
    "import pandas as pd\n",
    "data_frame = 'Rotten_Tomatoes_Movies3.csv'\n",
    "df = pd.read_csv(data_frame)\n",
    "df.loc[0:3, 'writers':'audience_rating']\n"
   ]
  },
  {
   "cell_type": "code",
   "execution_count": 55,
   "id": "90ea6e6d-e86f-4ebe-b130-61df5d96773d",
   "metadata": {},
   "outputs": [
    {
     "name": "stdout",
     "output_type": "stream",
     "text": [
      "[1 2 3 4 5 6]\n"
     ]
    }
   ],
   "source": [
    "import numpy as np\n",
    "a = np.array([1,2,3,4,5,6])\n",
    "print(a)"
   ]
  },
  {
   "cell_type": "code",
   "execution_count": 57,
   "id": "93f0338e-26cb-4fad-abd9-423acaaf7773",
   "metadata": {},
   "outputs": [
    {
     "name": "stdout",
     "output_type": "stream",
     "text": [
      "6\n"
     ]
    }
   ],
   "source": [
    "import numpy as np\n",
    "a = np.array([1,2,3,4,5,6])\n",
    "print(a.size)"
   ]
  },
  {
   "cell_type": "code",
   "execution_count": 58,
   "id": "7613e234-cd61-4173-a423-38b212906800",
   "metadata": {},
   "outputs": [
    {
     "name": "stdout",
     "output_type": "stream",
     "text": [
      "<class 'numpy.ndarray'>\n"
     ]
    }
   ],
   "source": [
    "import numpy as np\n",
    "a = np.array([1,2,3,4,5,6])\n",
    "print(type(a))"
   ]
  },
  {
   "cell_type": "code",
   "execution_count": 61,
   "id": "feefa3c9-e973-4eeb-9d8d-85d7e902b771",
   "metadata": {},
   "outputs": [
    {
     "name": "stdout",
     "output_type": "stream",
     "text": [
      "1\n",
      "(6,)\n"
     ]
    }
   ],
   "source": [
    "import numpy as np\n",
    "a = np.array([1,2,3,4,5,6])\n",
    "print(a.ndim)\n",
    "print(a.shape)"
   ]
  },
  {
   "cell_type": "code",
   "execution_count": 62,
   "id": "42d1712b-bd56-4b25-b1a0-544bef7e5c35",
   "metadata": {},
   "outputs": [
    {
     "name": "stdout",
     "output_type": "stream",
     "text": [
      "[3, 3]\n"
     ]
    }
   ],
   "source": [
    "import numpy as np\n",
    "a = np.array([1,2])\n",
    "b = np.array([2,1])\n",
    "z = []\n",
    "for a,b in zip(a,b):\n",
    "    z.append(a+b)\n",
    "\n",
    "print(z)"
   ]
  },
  {
   "cell_type": "code",
   "execution_count": 63,
   "id": "281cbd53-8eb1-4d77-a896-f245ae85e437",
   "metadata": {},
   "outputs": [
    {
     "name": "stdout",
     "output_type": "stream",
     "text": [
      "[3 3]\n"
     ]
    }
   ],
   "source": [
    "import numpy as np\n",
    "a = np.array([1,2])\n",
    "b = np.array([2,1])\n",
    "z = a+b\n",
    "print(z)"
   ]
  },
  {
   "cell_type": "code",
   "execution_count": 82,
   "id": "9e6b5857-a631-4e31-b13e-d69054ff7006",
   "metadata": {},
   "outputs": [
    {
     "name": "stdout",
     "output_type": "stream",
     "text": [
      "[-1  1]\n",
      "[3 3]\n"
     ]
    },
    {
     "data": {
      "image/png": "[encoded data removed]",
      "text/plain": [
       "<Figure size 640x480 with 1 Axes>"
      ]
     },
     "metadata": {},
     "output_type": "display_data"
    },
    {
     "data": {
      "image/png": "[encoded data removed]",
      "text/plain": [
       "<Figure size 640x480 with 1 Axes>"
      ]
     },
     "metadata": {},
     "output_type": "display_data"
    },
    {
     "name": "stdout",
     "output_type": "stream",
     "text": [
      "This is a and b plot None\n"
     ]
    }
   ],
   "source": [
    "import numpy as np\n",
    "import matplotlib.pyplot as plt\n",
    "a = np.array([1,2])\n",
    "b = np.array([2,1])\n",
    "\n",
    "z1 = a-b\n",
    "print(z1)\n",
    "z = np.add(a,b)\n",
    "print(z)\n",
    "plt.plot(z)\n",
    "plt.show()\n",
    "plt.plot(a,b)\n",
    "print(\"This is a and b plot\",plt.show())\n"
   ]
  },
  {
   "cell_type": "code",
   "execution_count": 79,
   "id": "40fb026d-ba7d-4e40-8354-8813b3f07dad",
   "metadata": {},
   "outputs": [
    {
     "name": "stdout",
     "output_type": "stream",
     "text": [
      "[-2.  -1.5 -1.  -0.5  0.   0.5  1.   1.5  2. ]\n",
      "[-0.90929743 -0.99749499 -0.84147098 -0.47942554  0.          0.47942554\n",
      "  0.84147098  0.99749499  0.90929743]\n"
     ]
    },
    {
     "data": {
      "image/png": "[encoded data removed]",
      "text/plain": [
       "<Figure size 640x480 with 1 Axes>"
      ]
     },
     "metadata": {},
     "output_type": "display_data"
    }
   ],
   "source": [
    "import numpy as np\n",
    "import matplotlib.pyplot as plt\n",
    "\n",
    "x = np.linspace(-2,2,num=9)\n",
    "print(x)\n",
    "y = np.sin(x)\n",
    "print(y)\n",
    "plt.plot(y)\n",
    "plt.show()"
   ]
  },
  {
   "cell_type": "code",
   "execution_count": 80,
   "id": "9087d8d9-025e-4726-a782-3d1aa3879d1a",
   "metadata": {},
   "outputs": [
    {
     "name": "stdout",
     "output_type": "stream",
     "text": [
      "1.4142135623730951\n"
     ]
    }
   ],
   "source": [
    "import numpy as np\n",
    "a=[1,2,3,4,5]\n",
    "x = np.array(a)\n",
    "print(x.std())"
   ]
  },
  {
   "cell_type": "code",
   "execution_count": 87,
   "id": "31eb7c81-67ad-4b6d-808f-af53fe0d30ca",
   "metadata": {},
   "outputs": [
    {
     "name": "stdout",
     "output_type": "stream",
     "text": [
      "[[26 32]\n",
      " [62 77]]\n"
     ]
    },
    {
     "data": {
      "text/plain": [
       "<function matplotlib.pyplot.show(close=None, block=None)>"
      ]
     },
     "execution_count": 87,
     "metadata": {},
     "output_type": "execute_result"
    },
    {
     "data": {
      "image/png": "[encoded data removed]",
      "text/plain": [
       "<Figure size 640x480 with 1 Axes>"
      ]
     },
     "metadata": {},
     "output_type": "display_data"
    }
   ],
   "source": [
    "import numpy as np\n",
    "import matplotlib.pyplot as plt\n",
    "a = np.array([[1,2,3],[4,5,6]])\n",
    "b = np.array([[2,3],[6,7],[4,5]])\n",
    "x = np.dot(a,b)\n",
    "print(x)\n",
    "plt.plot(x)\n",
    "plt.show"
   ]
  },
  {
   "cell_type": "code",
   "execution_count": 91,
   "id": "fec35928-69bb-46a5-b129-206072b31f2f",
   "metadata": {},
   "outputs": [
    {
     "name": "stdout",
     "output_type": "stream",
     "text": [
      "Note: you may need to restart the kernel to use updated packages.Defaulting to user installation because normal site-packages is not writeable\n",
      "Collecting ibm_watson\n",
      "  Downloading ibm_watson-9.0.0.tar.gz (342 kB)\n",
      "  Installing build dependencies: started\n",
      "  Installing build dependencies: finished with status 'done'\n",
      "  Getting requirements to build wheel: started\n",
      "  Getting requirements to build wheel: finished with status 'done'\n",
      "  Preparing metadata (pyproject.toml): started\n",
      "  Preparing metadata (pyproject.toml): finished with status 'done'\n",
      "Requirement already satisfied: requests<3.0,>=2.0 in c:\\users\\niraj shegokar panda\\appdata\\roaming\\python\\python311\\site-packages (from ibm_watson) (2.31.0)\n",
      "Requirement already satisfied: python_dateutil>=2.5.3 in c:\\users\\niraj shegokar panda\\appdata\\roaming\\python\\python311\\site-packages (from ibm_watson) (2.8.2)\n",
      "Requirement already satisfied: websocket-client>=1.1.0 in c:\\users\\niraj shegokar panda\\appdata\\roaming\\python\\python311\\site-packages (from ibm_watson) (1.6.1)\n",
      "Collecting ibm_cloud_sdk_core==3.*,>=3.3.6 (from ibm_watson)\n",
      "  Downloading ibm_cloud_sdk_core-3.22.1-py3-none-any.whl.metadata (8.6 kB)\n",
      "Collecting urllib3<3.0.0,>=2.1.0 (from ibm_cloud_sdk_core==3.*,>=3.3.6->ibm_watson)\n",
      "  Downloading urllib3-2.3.0-py3-none-any.whl.metadata (6.5 kB)\n",
      "Collecting PyJWT<3.0.0,>=2.8.0 (from ibm_cloud_sdk_core==3.*,>=3.3.6->ibm_watson)\n",
      "  Downloading PyJWT-2.10.1-py3-none-any.whl.metadata (4.0 kB)\n",
      "Requirement already satisfied: six>=1.5 in c:\\users\\niraj shegokar panda\\appdata\\roaming\\python\\python311\\site-packages (from python_dateutil>=2.5.3->ibm_watson) (1.16.0)\n",
      "Requirement already satisfied: charset-normalizer<4,>=2 in c:\\users\\niraj shegokar panda\\appdata\\roaming\\python\\python311\\site-packages (from requests<3.0,>=2.0->ibm_watson) (3.2.0)\n",
      "Requirement already satisfied: idna<4,>=2.5 in c:\\users\\niraj shegokar panda\\appdata\\roaming\\python\\python311\\site-packages (from requests<3.0,>=2.0->ibm_watson) (3.4)\n",
      "Requirement already satisfied: certifi>=2017.4.17 in c:\\users\\niraj shegokar panda\\appdata\\roaming\\python\\python311\\site-packages (from requests<3.0,>=2.0->ibm_watson) (2023.5.7)\n",
      "Downloading ibm_cloud_sdk_core-3.22.1-py3-none-any.whl (69 kB)\n",
      "Downloading PyJWT-2.10.1-py3-none-any.whl (22 kB)\n",
      "Downloading urllib3-2.3.0-py3-none-any.whl (128 kB)\n",
      "Building wheels for collected packages: ibm_watson\n",
      "  Building wheel for ibm_watson (pyproject.toml): started\n",
      "  Building wheel for ibm_watson (pyproject.toml): finished with status 'done'\n",
      "  Created wheel for ibm_watson: filename=ibm_watson-9.0.0-py3-none-any.whl size=345094 sha256=1c50c2f4b3b3eb82c89bc44ecd79a5f23970fb0de742a3eb1e100e77d3197d7c\n",
      "  Stored in directory: c:\\users\\niraj shegokar panda\\appdata\\local\\pip\\cache\\wheels\\a1\\ed\\65\\5abe3aa86c063331a8064910b7722d22ddf0bd75fc322f6c48\n",
      "Successfully built ibm_watson\n",
      "Installing collected packages: urllib3, PyJWT, ibm_cloud_sdk_core, ibm_watson\n",
      "  Attempting uninstall: urllib3\n",
      "    Found existing installation: urllib3 1.26.16\n",
      "    Uninstalling urllib3-1.26.16:\n",
      "      Successfully uninstalled urllib3-1.26.16\n",
      "Successfully installed PyJWT-2.10.1 ibm_cloud_sdk_core-3.22.1 ibm_watson-9.0.0 urllib3-2.3.0\n",
      "\n"
     ]
    },
    {
     "name": "stderr",
     "output_type": "stream",
     "text": [
      "ERROR: pip's dependency resolver does not currently take into account all the packages that are installed. This behaviour is the source of the following dependency conflicts.\n",
      "botocore 1.31.11 requires urllib3<1.27,>=1.25.4, but you have urllib3 2.3.0 which is incompatible.\n"
     ]
    }
   ],
   "source": [
    "pip install ibm_watson"
   ]
  },
  {
   "cell_type": "code",
   "execution_count": 115,
   "id": "c8daf363-b374-436e-aa5e-9f88d3add526",
   "metadata": {},
   "outputs": [
    {
     "name": "stdout",
     "output_type": "stream",
     "text": [
      "None\n",
      "{'Content-Security-Policy': 'upgrade-insecure-requests', 'x-frame-options': 'SAMEORIGIN', 'Last-Modified': 'Sat, 25 Jan 2025 11:31:45 GMT', 'ETag': '\"29e2e-62c86302c6fb8-gzip\"', 'Accept-Ranges': 'bytes', 'Content-Type': 'text/html;charset=utf-8', 'X-Content-Type-Options': 'nosniff', 'Cache-Control': 'max-age=600', 'Expires': 'Sat, 25 Jan 2025 13:01:30 GMT', 'X-Akamai-Transformed': '9 28308 0 pmb=mTOE,2', 'Content-Encoding': 'gzip', 'Date': 'Sat, 25 Jan 2025 12:51:30 GMT', 'Content-Length': '28495', 'Connection': 'keep-alive', 'Vary': 'Accept-Encoding', 'Strict-Transport-Security': 'max-age=31536000'}\n",
      "Sat, 25 Jan 2025 12:51:30 GMT\n"
     ]
    },
    {
     "data": {
      "text/plain": [
       "[<matplotlib.lines.Line2D at 0x2bb467f6a10>]"
      ]
     },
     "execution_count": 115,
     "metadata": {},
     "output_type": "execute_result"
    },
    {
     "data": {
      "image/png": "[encoded data removed]",
      "text/plain": [
       "<Figure size 640x480 with 1 Axes>"
      ]
     },
     "metadata": {},
     "output_type": "display_data"
    }
   ],
   "source": [
    "import requests\n",
    "import os\n",
    "from PIL import Image\n",
    "from IPython.display import IFrame\n",
    "import matplotlib.pyplot as plt\n",
    "\n",
    "url='https://www.ibm.com/'\n",
    "r=requests.get(url)\n",
    "r.headers\n",
    "r.content\n",
    "\n",
    "r.status_code\n",
    "# print(r.request.headers)\n",
    "print(r.request.body)\n",
    "header = r.headers\n",
    "print(header)\n",
    "# plt.plot(header)\n",
    "print(header['Date'])\n",
    "print(header['X-Akamai-Transformed'])\n"
   ]
  },
  {
   "cell_type": "code",
   "execution_count": 48,
   "id": "c9bbc2ef-3f46-4ca3-8cf4-a61dd5c1aacd",
   "metadata": {},
   "outputs": [
    {
     "data": {
      "image/png": "[encoded data removed]",
      "text/plain": [
       "<PIL.PngImagePlugin.PngImageFile image mode=RGBA size=1880x656>"
      ]
     },
     "execution_count": 48,
     "metadata": {},
     "output_type": "execute_result"
    }
   ],
   "source": [
    "import requests\n",
    "import os\n",
    "from PIL import Image\n",
    "from IPython.display import IFrame\n",
    "import matplotlib.pyplot as plt\n",
    "\n",
    "url='https://www.ibm.com/'\n",
    "r=requests.get(url)\n",
    "r.text[0:20000]\n",
    "\n",
    "url1='https://cf-courses-data.s3.us.cloud-object-storage.appdomain.cloud/IBMDeveloperSkillsNetwork-PY0101EN-SkillsNetwork/IDSNlogo.png'\n",
    "r1 = requests.get(url1)\n",
    "path=os.path.join(os.getcwd(),'image.png')\n",
    "with open(path,'wb') as f:\n",
    "    f.write(r1.content)\n",
    "\n",
    "Image.open(path)  "
   ]
  },
  {
   "cell_type": "code",
   "execution_count": 129,
   "id": "12c0a9bc-51b1-4e03-89d5-3f59ae53197a",
   "metadata": {},
   "outputs": [
    {
     "data": {
      "text/plain": [
       "'https://www.ibm.com/in-en'"
      ]
     },
     "execution_count": 129,
     "metadata": {},
     "output_type": "execute_result"
    }
   ],
   "source": [
    "import requests\n",
    "import os\n",
    "from PIL import Image\n",
    "from IPython.display import IFrame\n",
    "\n",
    "url_get = 'http://httpbin.org/get'\n",
    "playload = {'id':1213,'name':'Niraj'}\n",
    "r = requests.get(url, params=playload)\n",
    "r.url"
   ]
  },
  {
   "cell_type": "code",
   "execution_count": 16,
   "id": "63c6bbe9-f4d7-4cf1-9c78-37d3fc4b85d2",
   "metadata": {},
   "outputs": [
    {
     "name": "stdout",
     "output_type": "stream",
     "text": [
      "http://httpbin.org/post?id=123&name=Niraj\n",
      "http://httpbin.org/get?id=123&name=Niraj\n"
     ]
    },
    {
     "data": {
      "text/plain": [
       "{}"
      ]
     },
     "execution_count": 16,
     "metadata": {},
     "output_type": "execute_result"
    }
   ],
   "source": [
    "import requests\n",
    "import os\n",
    "from PIL import Image\n",
    "from IPython.display import IFrame\n",
    "\n",
    "url_get = 'http://httpbin.org/get'\n",
    "url_post = 'http://httpbin.org/post'\n",
    "\n",
    "playload = {\"id\":\"123\",\"name\":\"Niraj\"}\n",
    "r = requests.get(url_get, params=playload)\n",
    "# r.url\n",
    "r.json()\n",
    "# print(r.request.body)\n",
    "# print(r.status_code)\n",
    "r1 = requests.post(url_post, params = playload)\n",
    "print(r1.url)\n",
    "print(r.url)\n",
    "r1.json()['form']"
   ]
  },
  {
   "cell_type": "code",
   "execution_count": 17,
   "id": "c76a3ee5-5e8e-41c6-8f37-834e119ad070",
   "metadata": {},
   "outputs": [
    {
     "name": "stdout",
     "output_type": "stream",
     "text": [
      "Defaulting to user installation because normal site-packages is not writeable\n",
      "Collecting RandomUser\n",
      "  Downloading randomuser-1.6.tar.gz (5.0 kB)\n",
      "  Installing build dependencies: started\n",
      "  Installing build dependencies: finished with status 'done'\n",
      "  Getting requirements to build wheel: started\n",
      "  Getting requirements to build wheel: finished with status 'done'\n",
      "  Preparing metadata (pyproject.toml): started\n",
      "  Preparing metadata (pyproject.toml): finished with status 'done'\n",
      "Building wheels for collected packages: RandomUser\n",
      "  Building wheel for RandomUser (pyproject.toml): started\n",
      "  Building wheel for RandomUser (pyproject.toml): finished with status 'done'\n",
      "  Created wheel for RandomUser: filename=randomuser-1.6-py3-none-any.whl size=5127 sha256=0c0e3f73ad4560c6bdb78ec91b5511db24ff16f4de4fd9bb67b5f337d35bd8e5\n",
      "  Stored in directory: c:\\users\\niraj shegokar panda\\appdata\\local\\pip\\cache\\wheels\\fc\\8d\\74\\bcdd5e8a9433bfa4c4f9c1cccbfec40139322a28d77f61e45e\n",
      "Successfully built RandomUser\n",
      "Installing collected packages: RandomUser\n",
      "Successfully installed RandomUser-1.6\n",
      "Note: you may need to restart the kernel to use updated packages.\n"
     ]
    }
   ],
   "source": [
    "pip install RandomUser"
   ]
  },
  {
   "cell_type": "code",
   "execution_count": 51,
   "id": "5c09429b-2f68-4075-82eb-3a6e1bf1ba4c",
   "metadata": {},
   "outputs": [
    {
     "name": "stdout",
     "output_type": "stream",
     "text": [
      "Darrell Frazier\n",
      "Prisca Leroux   prisca.leroux@example.com\n",
      "آنیتا احمدی   anyt.hmdy@example.com\n",
      "Annette Lentz   annette.lentz@example.com\n",
      "Sofia Hall   sofia.hall@example.com\n",
      "Maria Smythe   maria.smythe@example.com\n",
      "Chiara Arnaud   chiara.arnaud@example.com\n",
      "Gonca Hakyemez   gonca.hakyemez@example.com\n",
      "Adriana Niebuhr   adriana.niebuhr@example.com\n",
      "Lillian Simmons   lillian.simmons@example.com\n",
      "Mathew Harris   mathew.harris@example.com\n"
     ]
    }
   ],
   "source": [
    "from randomuser import RandomUser\n",
    "import pandas as pd\n",
    "import requests\n",
    "from PIL import Image\n",
    "import os\n",
    "from IPython.display import IFrame\n",
    "\n",
    "\n",
    "r = RandomUser()\n",
    "some_list = r.generate_users(10)\n",
    "# print(some_list)\n",
    "name = r.get_full_name()\n",
    "print(name)\n",
    "# print(r.get_country())\n",
    "# print(r.get_username())\n",
    "\n",
    "for user in some_list:\n",
    "    # path=os.path.join(os.getcwd(),'image.png')\n",
    "    # with open(path,'wb') as f:\n",
    "    #     f.write(requests.get(user.get_picture()).content)\n",
    "    print(user.get_full_name() ,\" \", user.get_email())\n",
    "    \n"
   ]
  },
  {
   "cell_type": "code",
   "execution_count": 60,
   "id": "9b45e139-0f55-421e-a37d-dfdd0323878e",
   "metadata": {},
   "outputs": [
    {
     "name": "stdout",
     "output_type": "stream",
     "text": [
      "[{'Name': ['Istvan Fath'], 'Email': ['istvan.fath@example.com'], 'Address': [{'latitude': '-38.0450', 'longitude': '-40.2587'}]}, {'Name': ['Rodney Robinson'], 'Email': ['rodney.robinson@example.com'], 'Address': [{'latitude': '80.0331', 'longitude': '-81.4417'}]}, {'Name': ['Line Olivier'], 'Email': ['line.olivier@example.com'], 'Address': [{'latitude': '-83.4673', 'longitude': '84.4760'}]}, {'Name': ['Jorno Waanders'], 'Email': ['jorno.waanders@example.com'], 'Address': [{'latitude': '10.2939', 'longitude': '96.4146'}]}, {'Name': ['Yilmaz Ried'], 'Email': ['yilmaz.ried@example.com'], 'Address': [{'latitude': '-84.8480', 'longitude': '-161.4943'}]}, {'Name': ['Kris Haaijer'], 'Email': ['kris.haaijer@example.com'], 'Address': [{'latitude': '-80.2926', 'longitude': '62.7823'}]}, {'Name': ['Herman Ford'], 'Email': ['herman.ford@example.com'], 'Address': [{'latitude': '53.5926', 'longitude': '-139.9921'}]}, {'Name': ['Christopher Johnston'], 'Email': ['christopher.johnston@example.com'], 'Address': [{'latitude': '87.3391', 'longitude': '-178.8511'}]}, {'Name': ['Choukri Nederlof'], 'Email': ['choukri.nederlof@example.com'], 'Address': [{'latitude': '17.1801', 'longitude': '99.6686'}]}, {'Name': ['Emilia Jimenez'], 'Email': ['emilia.jimenez@example.com'], 'Address': [{'latitude': '86.7628', 'longitude': '-87.5332'}]}]\n"
     ]
    },
    {
     "data": {
      "text/html": [
       "<div>\n",
       "<style scoped>\n",
       "    .dataframe tbody tr th:only-of-type {\n",
       "        vertical-align: middle;\n",
       "    }\n",
       "\n",
       "    .dataframe tbody tr th {\n",
       "        vertical-align: top;\n",
       "    }\n",
       "\n",
       "    .dataframe thead th {\n",
       "        text-align: right;\n",
       "    }\n",
       "</style>\n",
       "<table border=\"1\" class=\"dataframe\">\n",
       "  <thead>\n",
       "    <tr style=\"text-align: right;\">\n",
       "      <th></th>\n",
       "      <th>Name</th>\n",
       "      <th>Email</th>\n",
       "      <th>Address</th>\n",
       "    </tr>\n",
       "  </thead>\n",
       "  <tbody>\n",
       "    <tr>\n",
       "      <th>0</th>\n",
       "      <td>[Istvan Fath]</td>\n",
       "      <td>[istvan.fath@example.com]</td>\n",
       "      <td>[{'latitude': '-38.0450', 'longitude': '-40.25...</td>\n",
       "    </tr>\n",
       "    <tr>\n",
       "      <th>1</th>\n",
       "      <td>[Rodney Robinson]</td>\n",
       "      <td>[rodney.robinson@example.com]</td>\n",
       "      <td>[{'latitude': '80.0331', 'longitude': '-81.441...</td>\n",
       "    </tr>\n",
       "    <tr>\n",
       "      <th>2</th>\n",
       "      <td>[Line Olivier]</td>\n",
       "      <td>[line.olivier@example.com]</td>\n",
       "      <td>[{'latitude': '-83.4673', 'longitude': '84.476...</td>\n",
       "    </tr>\n",
       "    <tr>\n",
       "      <th>3</th>\n",
       "      <td>[Jorno Waanders]</td>\n",
       "      <td>[jorno.waanders@example.com]</td>\n",
       "      <td>[{'latitude': '10.2939', 'longitude': '96.4146'}]</td>\n",
       "    </tr>\n",
       "    <tr>\n",
       "      <th>4</th>\n",
       "      <td>[Yilmaz Ried]</td>\n",
       "      <td>[yilmaz.ried@example.com]</td>\n",
       "      <td>[{'latitude': '-84.8480', 'longitude': '-161.4...</td>\n",
       "    </tr>\n",
       "    <tr>\n",
       "      <th>5</th>\n",
       "      <td>[Kris Haaijer]</td>\n",
       "      <td>[kris.haaijer@example.com]</td>\n",
       "      <td>[{'latitude': '-80.2926', 'longitude': '62.782...</td>\n",
       "    </tr>\n",
       "    <tr>\n",
       "      <th>6</th>\n",
       "      <td>[Herman Ford]</td>\n",
       "      <td>[herman.ford@example.com]</td>\n",
       "      <td>[{'latitude': '53.5926', 'longitude': '-139.99...</td>\n",
       "    </tr>\n",
       "    <tr>\n",
       "      <th>7</th>\n",
       "      <td>[Christopher Johnston]</td>\n",
       "      <td>[christopher.johnston@example.com]</td>\n",
       "      <td>[{'latitude': '87.3391', 'longitude': '-178.85...</td>\n",
       "    </tr>\n",
       "    <tr>\n",
       "      <th>8</th>\n",
       "      <td>[Choukri Nederlof]</td>\n",
       "      <td>[choukri.nederlof@example.com]</td>\n",
       "      <td>[{'latitude': '17.1801', 'longitude': '99.6686'}]</td>\n",
       "    </tr>\n",
       "    <tr>\n",
       "      <th>9</th>\n",
       "      <td>[Emilia Jimenez]</td>\n",
       "      <td>[emilia.jimenez@example.com]</td>\n",
       "      <td>[{'latitude': '86.7628', 'longitude': '-87.533...</td>\n",
       "    </tr>\n",
       "  </tbody>\n",
       "</table>\n",
       "</div>"
      ],
      "text/plain": [
       "                     Name                               Email  \\\n",
       "0           [Istvan Fath]           [istvan.fath@example.com]   \n",
       "1       [Rodney Robinson]       [rodney.robinson@example.com]   \n",
       "2          [Line Olivier]          [line.olivier@example.com]   \n",
       "3        [Jorno Waanders]        [jorno.waanders@example.com]   \n",
       "4           [Yilmaz Ried]           [yilmaz.ried@example.com]   \n",
       "5          [Kris Haaijer]          [kris.haaijer@example.com]   \n",
       "6           [Herman Ford]           [herman.ford@example.com]   \n",
       "7  [Christopher Johnston]  [christopher.johnston@example.com]   \n",
       "8      [Choukri Nederlof]      [choukri.nederlof@example.com]   \n",
       "9        [Emilia Jimenez]        [emilia.jimenez@example.com]   \n",
       "\n",
       "                                             Address  \n",
       "0  [{'latitude': '-38.0450', 'longitude': '-40.25...  \n",
       "1  [{'latitude': '80.0331', 'longitude': '-81.441...  \n",
       "2  [{'latitude': '-83.4673', 'longitude': '84.476...  \n",
       "3  [{'latitude': '10.2939', 'longitude': '96.4146'}]  \n",
       "4  [{'latitude': '-84.8480', 'longitude': '-161.4...  \n",
       "5  [{'latitude': '-80.2926', 'longitude': '62.782...  \n",
       "6  [{'latitude': '53.5926', 'longitude': '-139.99...  \n",
       "7  [{'latitude': '87.3391', 'longitude': '-178.85...  \n",
       "8  [{'latitude': '17.1801', 'longitude': '99.6686'}]  \n",
       "9  [{'latitude': '86.7628', 'longitude': '-87.533...  "
      ]
     },
     "execution_count": 60,
     "metadata": {},
     "output_type": "execute_result"
    }
   ],
   "source": [
    "from randomuser import RandomUser\n",
    "import pandas as pd\n",
    "r =RandomUser()\n",
    "user1 = []\n",
    "for user in r.generate_users(10):\n",
    "    user1.append({\"Name\":[user.get_full_name()],\"Email\":[user.get_email()], \"Address\":[user.get_coordinates()]})\n",
    "\n",
    "print(user1)\n",
    "pd.DataFrame(user1)"
   ]
  },
  {
   "cell_type": "code",
   "execution_count": 64,
   "id": "1c8e6a17-77af-4bf9-83ea-fa5dbd7374d6",
   "metadata": {},
   "outputs": [
    {
     "name": "stdout",
     "output_type": "stream",
     "text": [
      "[0 0 0 0 0]\n"
     ]
    },
    {
     "data": {
      "text/plain": [
       "array([11, 11, 11, 11, 11])"
      ]
     },
     "execution_count": 64,
     "metadata": {},
     "output_type": "execute_result"
    }
   ],
   "source": [
    "import numpy as np\n",
    "a=np.array([0,1,0,1,0])\n",
    "\n",
    "b=np.array([1,0,1,0,1])\n",
    "\n",
    "print(a*b)\n",
    "a=np.array([0,1])\n",
    "\n",
    "b=np.array([1,0])\n",
    "\n",
    "np.dot(a,b)\n",
    "a=np.array([1,1,1,1,1])\n",
    "\n",
    "a+10"
   ]
  },
  {
   "cell_type": "code",
   "execution_count": null,
   "id": "0df6bc09-8af7-4663-a25a-113ca31ff0b8",
   "metadata": {},
   "outputs": [],
   "source": [
    "DATA ANALYISI WITH PYTHON\n",
    "\n"
   ]
  }
 ],
 "metadata": {
  "kernelspec": {
   "display_name": "Python 3 (ipykernel)",
   "language": "python",
   "name": "python3"
  },
  "language_info": {
   "codemirror_mode": {
    "name": "ipython",
    "version": 3
   },
   "file_extension": ".py",
   "mimetype": "text/x-python",
   "name": "python",
   "nbconvert_exporter": "python",
   "pygments_lexer": "ipython3",
   "version": "3.13.1"
  }
 },
 "nbformat": 4,
 "nbformat_minor": 5
}
